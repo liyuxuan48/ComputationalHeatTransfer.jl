{
 "cells": [
  {
   "cell_type": "markdown",
   "metadata": {},
   "source": [
    "  # PostProcessing\n",
    "  This notebook is initially designed for PostProcessing ASETS-II numerical and experimental data.\n",
    "  It can also be used for other configurations's numerical results. But if you want to compare with other experimental data with a different format than ASETS-II. You should find a way to read them to RTD and RTDt in this notebook."
   ]
  },
  {
   "cell_type": "code",
   "execution_count": 1,
   "metadata": {},
   "outputs": [
    {
     "name": "stderr",
     "output_type": "stream",
     "text": [
      "WARNING: redefinition of constant UNIT_FORMATS. This may fail, cause incorrect answers, or produce other errors.\n"
     ]
    },
    {
     "data": {
      "application/vnd.webio.node+json": {
       "children": [],
       "instanceArgs": {
        "namespace": "html",
        "tag": "div"
       },
       "nodeType": "DOM",
       "props": {},
       "type": "node"
      },
      "text/html": [
       "<div style=\"padding: 1em; background-color: #f8d6da; border: 1px solid #f5c6cb; font-weight: bold;\">\n",
       "<p>The WebIO Jupyter extension was not detected. See the\n",
       "<a href=\"https://juliagizmos.github.io/WebIO.jl/latest/providers/ijulia/\" target=\"_blank\">\n",
       "    WebIO Jupyter integration documentation\n",
       "</a>\n",
       "for more information.\n",
       "</div>\n"
      ],
      "text/plain": [
       "WebIO._IJuliaInit()"
      ]
     },
     "metadata": {
      "application/vnd.webio.node+json": {
       "kernelId": null
      }
     },
     "output_type": "display_data"
    }
   ],
   "source": [
    "using ComputationalHeatTransfer\n",
    "using Plots\n",
    "using Interact\n",
    "using Statistics"
   ]
  },
  {
   "cell_type": "code",
   "execution_count": 2,
   "metadata": {},
   "outputs": [
    {
     "data": {
      "text/plain": [
       "get_wet_vapor_ratio (generic function with 1 method)"
      ]
     },
     "execution_count": 2,
     "metadata": {},
     "output_type": "execute_result"
    }
   ],
   "source": [
    "function get_wet_vapor_ratio(SimuResult::SimulationResult)\n",
    "    t = SimuResult.tube_hist_t;\n",
    "    tube_sys = getcurrentsys!.(SimuResult.tube_hist_u,[SimuResult.integrator_tube.p]);\n",
    "    filmLend = [x.vapor.Lfilm_end for x in tube_sys]\n",
    "    filmLstart = [x.vapor.Lfilm_start for x in tube_sys]\n",
    "    filmLtotal = sum.(filmLend) .+ sum.(filmLstart)\n",
    "\n",
    "    Xps = [x.liquid.Xp for x in tube_sys]\n",
    "    Lvaporplug=XptoLvaporplug.(Xps,[tube_sys[1].tube.L],[tube_sys[1].tube.closedornot]);\n",
    "    vaporLtotal = sum.(Lvaporplug)\n",
    "    \n",
    "   \n",
    "    starti = floor(Int64,length(t)/2)\n",
    "    ratio = mean((filmLtotal./vaporLtotal)[starti:end])\n",
    "end"
   ]
  },
  {
   "cell_type": "code",
   "execution_count": 3,
   "metadata": {},
   "outputs": [
    {
     "data": {
      "text/plain": [
       "get_avgδ (generic function with 1 method)"
      ]
     },
     "execution_count": 3,
     "metadata": {},
     "output_type": "execute_result"
    }
   ],
   "source": [
    "function get_avgδ(SimuResult::SimulationResult)\n",
    "    t = SimuResult.tube_hist_t;\n",
    "    tube_sys = getcurrentsys!.(SimuResult.tube_hist_u,[SimuResult.integrator_tube.p]);\n",
    "    \n",
    "    filmLδend = [x.vapor.Lfilm_end.*x.vapor.δend for x in tube_sys]\n",
    "    filmLδstart = [x.vapor.Lfilm_start.*x.vapor.δstart for x in tube_sys]\n",
    "#     filmδend = [x.vapor.δend for x in tube_sys]\n",
    "#     filmδstart = [x.vapor.δstart for x in tube_sys]\n",
    "    filmLend = [x.vapor.Lfilm_end for x in tube_sys]\n",
    "    filmLstart = [x.vapor.Lfilm_start for x in tube_sys]\n",
    "    filmLtotal = sum.(filmLend) .+ sum.(filmLstart)\n",
    "    avgδ = sum.(filmLδend) .+ sum.(filmLδstart) ./ filmLtotal\n",
    "    \n",
    "    starti = floor(Int64,length(t)/2)\n",
    "    mean(avgδ[starti:end])\n",
    "end"
   ]
  },
  {
   "cell_type": "code",
   "execution_count": 4,
   "metadata": {},
   "outputs": [
    {
     "data": {
      "text/plain": [
       "get_conductance (generic function with 1 method)"
      ]
     },
     "execution_count": 4,
     "metadata": {},
     "output_type": "execute_result"
    }
   ],
   "source": [
    "function get_conductance(SimuResult::SimulationResult)\n",
    "    tube_sys = getcurrentsys!.(SimuResult.tube_hist_u,[SimuResult.integrator_tube.p]);\n",
    "    power = tube_sys[1].wall.power\n",
    "    \n",
    "    x2Dsensors = [-2.75,-1.4,-0.8,0.0,0.0,0.8,1.4,2.75] .* inches\n",
    "    y2Dsensors = [0.0,   0.0, 0.0,0.0,0.4,0.0,0.0,0.0] .* inches\n",
    "    plate_sensors = (x2Dsensors,y2Dsensors);\n",
    "    \n",
    "    t_hist,g_hist = getTcurve(plate_sensors,SimuResult);\n",
    "    \n",
    "    ihot = 4 # hot sensor  for calculating thermal conductance\n",
    "    icold = 8 # cold sensor  for calculating thermal conductance;\n",
    "    \n",
    "    starti = floor(Int64,length(t_hist)/2)\n",
    "    mean(power./(g_hist[starti:end,ihot] .- g_hist[starti:end,icold]))\n",
    "end"
   ]
  },
  {
   "cell_type": "code",
   "execution_count": 5,
   "metadata": {},
   "outputs": [],
   "source": [
    "cd(\"/Users/yuxuanli/Documents/Hoffman/workdir/numedata\")"
   ]
  },
  {
   "cell_type": "markdown",
   "metadata": {},
   "source": [
    "  # Read simulation data"
   ]
  },
  {
   "cell_type": "code",
   "execution_count": 6,
   "metadata": {},
   "outputs": [],
   "source": [
    "# read_path = \"../numedata/solution.jld2\"\n",
    "read_path = \"../numedata/ASETS-000-000-13.jld2\"\n",
    "# read_path = \"../numedata/ASETS-015-000-13.jld2\"\n",
    "\n",
    "SimuResult = load(read_path)[\"SimulationResult\"];"
   ]
  },
  {
   "cell_type": "markdown",
   "metadata": {},
   "source": [
    "  ### get time array"
   ]
  },
  {
   "cell_type": "code",
   "execution_count": 7,
   "metadata": {},
   "outputs": [],
   "source": [
    "t = SimuResult.tube_hist_t;"
   ]
  },
  {
   "cell_type": "markdown",
   "metadata": {},
   "source": [
    "  # Plot 2D graphs"
   ]
  },
  {
   "cell_type": "code",
   "execution_count": 8,
   "metadata": {},
   "outputs": [
    {
     "data": {
      "text/plain": [
       "6×6 Matrix{Float64}:\n",
       " 0.0  0.0  0.0  0.0  0.0  0.0\n",
       " 0.0  0.0  0.0  0.0  0.0  0.0\n",
       " 0.0  0.0  0.0  0.0  0.0  0.0\n",
       " 0.0  0.0  0.0  0.0  0.0  0.0\n",
       " 0.0  0.0  0.0  0.0  0.0  0.0\n",
       " 0.0  0.0  0.0  0.0  0.0  0.0"
      ]
     },
     "execution_count": 8,
     "metadata": {},
     "output_type": "execute_result"
    }
   ],
   "source": [
    "η_plus_array = 0:0.2:1\n",
    "η_minus_array = 0:0.2:1\n",
    "wet_ratio_matrix = zeros(size(η_plus_array,1),size(η_minus_array,1))\n",
    "cond_matrix = zeros(size(η_plus_array,1),size(η_minus_array,1))\n",
    "avgδ_matrix = zeros(size(η_plus_array,1),size(η_minus_array,1))"
   ]
  },
  {
   "cell_type": "code",
   "execution_count": 9,
   "metadata": {},
   "outputs": [
    {
     "name": "stdout",
     "output_type": "stream",
     "text": [
      "../numedata/ASETS-000-000-13.jld2\n",
      "../numedata/ASETS-000-020-13.jld2\n",
      "../numedata/ASETS-000-040-13.jld2\n",
      "../numedata/ASETS-000-060-13.jld2\n",
      "../numedata/ASETS-000-080-13.jld2\n",
      "../numedata/ASETS-000-100-13.jld2\n",
      "../numedata/ASETS-020-000-13.jld2\n",
      "../numedata/ASETS-020-020-13.jld2\n",
      "../numedata/ASETS-020-040-13.jld2\n",
      "../numedata/ASETS-020-060-13.jld2\n",
      "../numedata/ASETS-020-080-13.jld2\n",
      "../numedata/ASETS-020-100-13.jld2\n",
      "../numedata/ASETS-040-000-13.jld2\n",
      "../numedata/ASETS-040-020-13.jld2\n",
      "../numedata/ASETS-040-040-13.jld2\n",
      "../numedata/ASETS-040-060-13.jld2\n",
      "../numedata/ASETS-040-080-13.jld2\n",
      "../numedata/ASETS-040-100-13.jld2\n",
      "../numedata/ASETS-060-000-13.jld2\n",
      "../numedata/ASETS-060-020-13.jld2\n",
      "../numedata/ASETS-060-040-13.jld2\n",
      "../numedata/ASETS-060-060-13.jld2\n",
      "../numedata/ASETS-060-080-13.jld2\n",
      "../numedata/ASETS-060-100-13.jld2\n",
      "../numedata/ASETS-080-000-13.jld2\n",
      "../numedata/ASETS-080-020-13.jld2\n",
      "../numedata/ASETS-080-040-13.jld2\n",
      "../numedata/ASETS-080-060-13.jld2\n",
      "../numedata/ASETS-080-080-13.jld2\n",
      "../numedata/ASETS-080-100-13.jld2\n",
      "../numedata/ASETS-100-000-13.jld2\n",
      "../numedata/ASETS-100-020-13.jld2\n",
      "../numedata/ASETS-100-040-13.jld2\n",
      "../numedata/ASETS-100-060-13.jld2\n",
      "../numedata/ASETS-100-080-13.jld2\n",
      "../numedata/ASETS-100-100-13.jld2\n"
     ]
    }
   ],
   "source": [
    "for i in eachindex(η_plus_array)\n",
    "    for j in eachindex(η_minus_array)\n",
    "        η_plus=η_plus_array[i]\n",
    "        η_minus=η_minus_array[j]\n",
    "        plus_string = (Int64(100*η_plus) == 100 ? \"\" : \"0\")*string(Int64(100*η_plus))*(Int64(100*η_plus) == 0 ? \"0\" : \"\")\n",
    "        minus_string = (Int64(100*η_minus) == 100 ? \"\" : \"0\")*string(Int64(100*η_minus))*(Int64(100*η_minus) == 0 ? \"0\" : \"\")\n",
    "        read_path = \"../numedata/ASETS-\"*plus_string*\"-\"*minus_string*\"-13.jld2\"\n",
    "        SimuResult = load(read_path)[\"SimulationResult\"];\n",
    "        println(read_path)\n",
    "        wet_ratio_matrix[j,i] = get_wet_vapor_ratio(SimuResult)\n",
    "        cond_matrix[j,i] = get_conductance(SimuResult)\n",
    "        avgδ_matrix[j,i] = get_avgδ(SimuResult)\n",
    "    end\n",
    "end"
   ]
  },
  {
   "cell_type": "code",
   "execution_count": 28,
   "metadata": {},
   "outputs": [
    {
     "data": {
      "text/plain": [
       "\"/Users/yuxuanli/Documents/Hoffman/workdir/numedata/wetvapor.pdf\""
      ]
     },
     "execution_count": 28,
     "metadata": {},
     "output_type": "execute_result"
    }
   ],
   "source": [
    "contourf(η_minus_array,η_plus_array,wet_ratio_matrix,xlabel=\"η+\",ylabel=\"η-\",title=\"wet vapor ratio\")\n",
    "scatter!(xgrid[:],ygrid[:],legend=false,color=:green)\n",
    "savefig(\"wetvapor.pdf\")"
   ]
  },
  {
   "cell_type": "code",
   "execution_count": 29,
   "metadata": {},
   "outputs": [
    {
     "data": {
      "text/plain": [
       "\"/Users/yuxuanli/Documents/Hoffman/workdir/numedata/condmany.pdf\""
      ]
     },
     "execution_count": 29,
     "metadata": {},
     "output_type": "execute_result"
    }
   ],
   "source": [
    "contourf(η_minus_array,η_plus_array,cond_matrix,xlabel=\"η+\",ylabel=\"η-\",title=\"thermal conductance\",clim=(5,11))\n",
    "contour!(η_minus_array,η_plus_array,cond_matrix,levels=[6.8],linewidth=2,linecolor=:green)\n",
    "scatter!(xgrid[:],ygrid[:],legend=false,color=:green)\n",
    "savefig(\"condmany.pdf\")"
   ]
  },
  {
   "cell_type": "code",
   "execution_count": 12,
   "metadata": {},
   "outputs": [
    {
     "ename": "LoadError",
     "evalue": "UndefVarError: xgrid not defined",
     "output_type": "error",
     "traceback": [
      "UndefVarError: xgrid not defined",
      "",
      "Stacktrace:",
      " [1] top-level scope",
      "   @ In[12]:2"
     ]
    }
   ],
   "source": [
    "contourf(η_minus_array,η_plus_array,avgδ_matrix,xlabel=\"η+\",ylabel=\"η-\",right_margin = 10Plots.mm,title=\"average film thickness\")\n",
    "scatter!(xgrid[:],ygrid[:],legend=false,color=:green)"
   ]
  },
  {
   "cell_type": "code",
   "execution_count": 13,
   "metadata": {},
   "outputs": [
    {
     "data": {
      "text/plain": [
       "6×6 Matrix{Float64}:\n",
       " 2.78601e-5  3.01482e-5  3.08728e-5  3.06639e-5  2.95136e-5  3.12597e-5\n",
       " 2.81526e-5  2.82229e-5  2.94924e-5  3.13114e-5  3.16947e-5  3.13815e-5\n",
       " 2.82125e-5  2.86535e-5  2.97677e-5  2.92708e-5  3.26653e-5  3.10116e-5\n",
       " 2.91792e-5  2.95608e-5  2.71198e-5  2.8002e-5   3.01018e-5  2.94235e-5\n",
       " 2.71879e-5  2.8363e-5   2.86941e-5  2.99153e-5  2.69866e-5  3.03957e-5\n",
       " 2.76273e-5  2.79087e-5  2.79285e-5  2.73885e-5  2.73129e-5  2.66253e-5"
      ]
     },
     "execution_count": 13,
     "metadata": {},
     "output_type": "execute_result"
    }
   ],
   "source": [
    "avgδ_matrix"
   ]
  },
  {
   "cell_type": "code",
   "execution_count": 14,
   "metadata": {},
   "outputs": [
    {
     "data": {
      "text/plain": [
       "6×6 Matrix{Float64}:\n",
       " 0.942335  0.859834  0.773972  0.754938  0.536308  0.636804\n",
       " 0.976861  0.949857  0.872377  0.809894  0.755783  0.702674\n",
       " 0.974672  0.976696  0.94764   0.898953  0.812078  0.752297\n",
       " 0.979761  0.978302  0.971418  0.943023  0.915587  0.863058\n",
       " 0.977857  0.981194  0.974911  0.969167  0.942326  0.893205\n",
       " 0.980098  0.980225  0.976816  0.972942  0.973618  0.926559"
      ]
     },
     "execution_count": 14,
     "metadata": {},
     "output_type": "execute_result"
    }
   ],
   "source": [
    "wet_ratio_matrix"
   ]
  },
  {
   "cell_type": "code",
   "execution_count": 15,
   "metadata": {},
   "outputs": [
    {
     "data": {
      "text/plain": [
       "6×6 Matrix{Float64}:\n",
       " 0.0  0.2  0.4  0.6  0.8  1.0\n",
       " 0.0  0.2  0.4  0.6  0.8  1.0\n",
       " 0.0  0.2  0.4  0.6  0.8  1.0\n",
       " 0.0  0.2  0.4  0.6  0.8  1.0\n",
       " 0.0  0.2  0.4  0.6  0.8  1.0\n",
       " 0.0  0.2  0.4  0.6  0.8  1.0"
      ]
     },
     "execution_count": 15,
     "metadata": {},
     "output_type": "execute_result"
    }
   ],
   "source": [
    "xgrid = η_plus_array' .* ones(length(η_minus_array))"
   ]
  },
  {
   "cell_type": "code",
   "execution_count": 16,
   "metadata": {},
   "outputs": [
    {
     "data": {
      "text/plain": [
       "6×6 Matrix{Float64}:\n",
       " 0.0  0.0  0.0  0.0  0.0  0.0\n",
       " 0.2  0.2  0.2  0.2  0.2  0.2\n",
       " 0.4  0.4  0.4  0.4  0.4  0.4\n",
       " 0.6  0.6  0.6  0.6  0.6  0.6\n",
       " 0.8  0.8  0.8  0.8  0.8  0.8\n",
       " 1.0  1.0  1.0  1.0  1.0  1.0"
      ]
     },
     "execution_count": 16,
     "metadata": {},
     "output_type": "execute_result"
    }
   ],
   "source": [
    "ygrid = ones(length(η_plus_array))' .* η_minus_array"
   ]
  },
  {
   "cell_type": "code",
   "execution_count": 17,
   "metadata": {},
   "outputs": [
    {
     "data": {
      "text/plain": [
       "36-element Vector{Float64}:\n",
       " 0.0\n",
       " 0.0\n",
       " 0.0\n",
       " 0.0\n",
       " 0.0\n",
       " 0.0\n",
       " 0.2\n",
       " 0.2\n",
       " 0.2\n",
       " 0.2\n",
       " 0.2\n",
       " 0.2\n",
       " 0.4\n",
       " ⋮\n",
       " 0.8\n",
       " 0.8\n",
       " 0.8\n",
       " 0.8\n",
       " 0.8\n",
       " 0.8\n",
       " 1.0\n",
       " 1.0\n",
       " 1.0\n",
       " 1.0\n",
       " 1.0\n",
       " 1.0"
      ]
     },
     "execution_count": 17,
     "metadata": {},
     "output_type": "execute_result"
    }
   ],
   "source": [
    "xgrid[:]"
   ]
  },
  {
   "cell_type": "code",
   "execution_count": 18,
   "metadata": {},
   "outputs": [
    {
     "data": {
      "text/plain": [
       "36-element Vector{Float64}:\n",
       " 0.9423353921638917\n",
       " 0.9768612254076835\n",
       " 0.9746724446046338\n",
       " 0.9797612301623179\n",
       " 0.9778570686107032\n",
       " 0.9800980023961237\n",
       " 0.8598342289119987\n",
       " 0.9498571242366235\n",
       " 0.9766960289596541\n",
       " 0.978302008283491\n",
       " 0.9811937051300066\n",
       " 0.9802248556164107\n",
       " 0.7739716587668338\n",
       " ⋮\n",
       " 0.5363084630001631\n",
       " 0.7557827884261297\n",
       " 0.8120781333656628\n",
       " 0.9155870768923225\n",
       " 0.9423261554571305\n",
       " 0.9736182651554648\n",
       " 0.6368037204219302\n",
       " 0.7026744429692708\n",
       " 0.7522967832957708\n",
       " 0.8630576936609832\n",
       " 0.8932053299694707\n",
       " 0.9265587701192318"
      ]
     },
     "execution_count": 18,
     "metadata": {},
     "output_type": "execute_result"
    }
   ],
   "source": [
    "wet_ratio_matrix[:]"
   ]
  },
  {
   "cell_type": "code",
   "execution_count": 19,
   "metadata": {},
   "outputs": [
    {
     "data": {
      "image/svg+xml": [
       "<?xml version=\"1.0\" encoding=\"utf-8\"?>\n",
       "<svg xmlns=\"http://www.w3.org/2000/svg\" xmlns:xlink=\"http://www.w3.org/1999/xlink\" width=\"600\" height=\"400\" viewBox=\"0 0 2400 1600\">\n",
       "<defs>\n",
       "  <clipPath id=\"clip430\">\n",
       "    <rect x=\"0\" y=\"0\" width=\"2400\" height=\"1600\"/>\n",
       "  </clipPath>\n",
       "</defs>\n",
       "<path clip-path=\"url(#clip430)\" d=\"M0 1600 L2400 1600 L2400 0 L0 0  Z\" fill=\"#ffffff\" fill-rule=\"evenodd\" fill-opacity=\"1\"/>\n",
       "<defs>\n",
       "  <clipPath id=\"clip431\">\n",
       "    <rect x=\"480\" y=\"0\" width=\"1681\" height=\"1600\"/>\n",
       "  </clipPath>\n",
       "</defs>\n",
       "<path clip-path=\"url(#clip430)\" d=\"M138.959 1486.45 L2352.76 1486.45 L2352.76 47.2441 L138.959 47.2441  Z\" fill=\"#ffffff\" fill-rule=\"evenodd\" fill-opacity=\"1\"/>\n",
       "<defs>\n",
       "  <clipPath id=\"clip432\">\n",
       "    <rect x=\"138\" y=\"47\" width=\"2215\" height=\"1440\"/>\n",
       "  </clipPath>\n",
       "</defs>\n",
       "<polyline clip-path=\"url(#clip432)\" style=\"stroke:#000000; stroke-linecap:round; stroke-linejoin:round; stroke-width:2; stroke-opacity:0.1; fill:none\" points=\"500.61,1486.45 500.61,47.2441 \"/>\n",
       "<polyline clip-path=\"url(#clip432)\" style=\"stroke:#000000; stroke-linecap:round; stroke-linejoin:round; stroke-width:2; stroke-opacity:0.1; fill:none\" points=\"970.054,1486.45 970.054,47.2441 \"/>\n",
       "<polyline clip-path=\"url(#clip432)\" style=\"stroke:#000000; stroke-linecap:round; stroke-linejoin:round; stroke-width:2; stroke-opacity:0.1; fill:none\" points=\"1439.5,1486.45 1439.5,47.2441 \"/>\n",
       "<polyline clip-path=\"url(#clip432)\" style=\"stroke:#000000; stroke-linecap:round; stroke-linejoin:round; stroke-width:2; stroke-opacity:0.1; fill:none\" points=\"1908.94,1486.45 1908.94,47.2441 \"/>\n",
       "<polyline clip-path=\"url(#clip430)\" style=\"stroke:#000000; stroke-linecap:round; stroke-linejoin:round; stroke-width:4; stroke-opacity:1; fill:none\" points=\"138.959,1486.45 2352.76,1486.45 \"/>\n",
       "<polyline clip-path=\"url(#clip430)\" style=\"stroke:#000000; stroke-linecap:round; stroke-linejoin:round; stroke-width:4; stroke-opacity:1; fill:none\" points=\"500.61,1486.45 500.61,1467.55 \"/>\n",
       "<polyline clip-path=\"url(#clip430)\" style=\"stroke:#000000; stroke-linecap:round; stroke-linejoin:round; stroke-width:4; stroke-opacity:1; fill:none\" points=\"970.054,1486.45 970.054,1467.55 \"/>\n",
       "<polyline clip-path=\"url(#clip430)\" style=\"stroke:#000000; stroke-linecap:round; stroke-linejoin:round; stroke-width:4; stroke-opacity:1; fill:none\" points=\"1439.5,1486.45 1439.5,1467.55 \"/>\n",
       "<polyline clip-path=\"url(#clip430)\" style=\"stroke:#000000; stroke-linecap:round; stroke-linejoin:round; stroke-width:4; stroke-opacity:1; fill:none\" points=\"1908.94,1486.45 1908.94,1467.55 \"/>\n",
       "<path clip-path=\"url(#clip430)\" d=\"M477.914 1517.37 Q474.302 1517.37 472.474 1520.93 Q470.668 1524.47 470.668 1531.6 Q470.668 1538.71 472.474 1542.27 Q474.302 1545.82 477.914 1545.82 Q481.548 1545.82 483.353 1542.27 Q485.182 1538.71 485.182 1531.6 Q485.182 1524.47 483.353 1520.93 Q481.548 1517.37 477.914 1517.37 M477.914 1513.66 Q483.724 1513.66 486.779 1518.27 Q489.858 1522.85 489.858 1531.6 Q489.858 1540.33 486.779 1544.94 Q483.724 1549.52 477.914 1549.52 Q472.103 1549.52 469.025 1544.94 Q465.969 1540.33 465.969 1531.6 Q465.969 1522.85 469.025 1518.27 Q472.103 1513.66 477.914 1513.66 Z\" fill=\"#000000\" fill-rule=\"nonzero\" fill-opacity=\"1\" /><path clip-path=\"url(#clip430)\" d=\"M498.075 1542.97 L502.96 1542.97 L502.96 1548.85 L498.075 1548.85 L498.075 1542.97 Z\" fill=\"#000000\" fill-rule=\"nonzero\" fill-opacity=\"1\" /><path clip-path=\"url(#clip430)\" d=\"M523.723 1529.7 Q520.575 1529.7 518.724 1531.86 Q516.895 1534.01 516.895 1537.76 Q516.895 1541.49 518.724 1543.66 Q520.575 1545.82 523.723 1545.82 Q526.872 1545.82 528.7 1543.66 Q530.552 1541.49 530.552 1537.76 Q530.552 1534.01 528.7 1531.86 Q526.872 1529.7 523.723 1529.7 M533.006 1515.05 L533.006 1519.31 Q531.247 1518.48 529.441 1518.04 Q527.659 1517.6 525.899 1517.6 Q521.27 1517.6 518.816 1520.72 Q516.386 1523.85 516.038 1530.17 Q517.404 1528.15 519.464 1527.09 Q521.524 1526 524.001 1526 Q529.21 1526 532.219 1529.17 Q535.251 1532.32 535.251 1537.76 Q535.251 1543.08 532.103 1546.3 Q528.955 1549.52 523.723 1549.52 Q517.728 1549.52 514.557 1544.94 Q511.386 1540.33 511.386 1531.6 Q511.386 1523.41 515.274 1518.55 Q519.163 1513.66 525.714 1513.66 Q527.473 1513.66 529.256 1514.01 Q531.061 1514.36 533.006 1515.05 Z\" fill=\"#000000\" fill-rule=\"nonzero\" fill-opacity=\"1\" /><path clip-path=\"url(#clip430)\" d=\"M947.89 1517.37 Q944.279 1517.37 942.45 1520.93 Q940.645 1524.47 940.645 1531.6 Q940.645 1538.71 942.45 1542.27 Q944.279 1545.82 947.89 1545.82 Q951.524 1545.82 953.33 1542.27 Q955.158 1538.71 955.158 1531.6 Q955.158 1524.47 953.33 1520.93 Q951.524 1517.37 947.89 1517.37 M947.89 1513.66 Q953.7 1513.66 956.756 1518.27 Q959.834 1522.85 959.834 1531.6 Q959.834 1540.33 956.756 1544.94 Q953.7 1549.52 947.89 1549.52 Q942.08 1549.52 939.001 1544.94 Q935.946 1540.33 935.946 1531.6 Q935.946 1522.85 939.001 1518.27 Q942.08 1513.66 947.89 1513.66 Z\" fill=\"#000000\" fill-rule=\"nonzero\" fill-opacity=\"1\" /><path clip-path=\"url(#clip430)\" d=\"M968.052 1542.97 L972.936 1542.97 L972.936 1548.85 L968.052 1548.85 L968.052 1542.97 Z\" fill=\"#000000\" fill-rule=\"nonzero\" fill-opacity=\"1\" /><path clip-path=\"url(#clip430)\" d=\"M981.941 1514.29 L1004.16 1514.29 L1004.16 1516.28 L991.617 1548.85 L986.732 1548.85 L998.538 1518.22 L981.941 1518.22 L981.941 1514.29 Z\" fill=\"#000000\" fill-rule=\"nonzero\" fill-opacity=\"1\" /><path clip-path=\"url(#clip430)\" d=\"M1416.93 1517.37 Q1413.32 1517.37 1411.49 1520.93 Q1409.68 1524.47 1409.68 1531.6 Q1409.68 1538.71 1411.49 1542.27 Q1413.32 1545.82 1416.93 1545.82 Q1420.56 1545.82 1422.37 1542.27 Q1424.2 1538.71 1424.2 1531.6 Q1424.2 1524.47 1422.37 1520.93 Q1420.56 1517.37 1416.93 1517.37 M1416.93 1513.66 Q1422.74 1513.66 1425.79 1518.27 Q1428.87 1522.85 1428.87 1531.6 Q1428.87 1540.33 1425.79 1544.94 Q1422.74 1549.52 1416.93 1549.52 Q1411.12 1549.52 1408.04 1544.94 Q1404.98 1540.33 1404.98 1531.6 Q1404.98 1522.85 1408.04 1518.27 Q1411.12 1513.66 1416.93 1513.66 Z\" fill=\"#000000\" fill-rule=\"nonzero\" fill-opacity=\"1\" /><path clip-path=\"url(#clip430)\" d=\"M1437.09 1542.97 L1441.98 1542.97 L1441.98 1548.85 L1437.09 1548.85 L1437.09 1542.97 Z\" fill=\"#000000\" fill-rule=\"nonzero\" fill-opacity=\"1\" /><path clip-path=\"url(#clip430)\" d=\"M1462.16 1532.44 Q1458.83 1532.44 1456.91 1534.22 Q1455.01 1536 1455.01 1539.13 Q1455.01 1542.25 1456.91 1544.03 Q1458.83 1545.82 1462.16 1545.82 Q1465.49 1545.82 1467.41 1544.03 Q1469.34 1542.23 1469.34 1539.13 Q1469.34 1536 1467.41 1534.22 Q1465.52 1532.44 1462.16 1532.44 M1457.48 1530.45 Q1454.48 1529.7 1452.79 1527.64 Q1451.12 1525.58 1451.12 1522.62 Q1451.12 1518.48 1454.06 1516.07 Q1457.02 1513.66 1462.16 1513.66 Q1467.32 1513.66 1470.26 1516.07 Q1473.2 1518.48 1473.2 1522.62 Q1473.2 1525.58 1471.51 1527.64 Q1469.85 1529.7 1466.86 1530.45 Q1470.24 1531.23 1472.11 1533.52 Q1474.01 1535.82 1474.01 1539.13 Q1474.01 1544.15 1470.93 1546.83 Q1467.88 1549.52 1462.16 1549.52 Q1456.44 1549.52 1453.36 1546.83 Q1450.31 1544.15 1450.31 1539.13 Q1450.31 1535.82 1452.21 1533.52 Q1454.1 1531.23 1457.48 1530.45 M1455.77 1523.06 Q1455.77 1525.75 1457.44 1527.25 Q1459.13 1528.76 1462.16 1528.76 Q1465.17 1528.76 1466.86 1527.25 Q1468.57 1525.75 1468.57 1523.06 Q1468.57 1520.38 1466.86 1518.87 Q1465.17 1517.37 1462.16 1517.37 Q1459.13 1517.37 1457.44 1518.87 Q1455.77 1520.38 1455.77 1523.06 Z\" fill=\"#000000\" fill-rule=\"nonzero\" fill-opacity=\"1\" /><path clip-path=\"url(#clip430)\" d=\"M1886.42 1517.37 Q1882.81 1517.37 1880.98 1520.93 Q1879.17 1524.47 1879.17 1531.6 Q1879.17 1538.71 1880.98 1542.27 Q1882.81 1545.82 1886.42 1545.82 Q1890.05 1545.82 1891.86 1542.27 Q1893.69 1538.71 1893.69 1531.6 Q1893.69 1524.47 1891.86 1520.93 Q1890.05 1517.37 1886.42 1517.37 M1886.42 1513.66 Q1892.23 1513.66 1895.28 1518.27 Q1898.36 1522.85 1898.36 1531.6 Q1898.36 1540.33 1895.28 1544.94 Q1892.23 1549.52 1886.42 1549.52 Q1880.61 1549.52 1877.53 1544.94 Q1874.47 1540.33 1874.47 1531.6 Q1874.47 1522.85 1877.53 1518.27 Q1880.61 1513.66 1886.42 1513.66 Z\" fill=\"#000000\" fill-rule=\"nonzero\" fill-opacity=\"1\" /><path clip-path=\"url(#clip430)\" d=\"M1906.58 1542.97 L1911.47 1542.97 L1911.47 1548.85 L1906.58 1548.85 L1906.58 1542.97 Z\" fill=\"#000000\" fill-rule=\"nonzero\" fill-opacity=\"1\" /><path clip-path=\"url(#clip430)\" d=\"M1921.79 1548.13 L1921.79 1543.87 Q1923.55 1544.7 1925.35 1545.14 Q1927.16 1545.58 1928.9 1545.58 Q1933.53 1545.58 1935.96 1542.48 Q1938.41 1539.36 1938.76 1533.01 Q1937.41 1535.01 1935.35 1536.07 Q1933.29 1537.13 1930.79 1537.13 Q1925.61 1537.13 1922.58 1534.01 Q1919.57 1530.86 1919.57 1525.42 Q1919.57 1520.1 1922.72 1516.88 Q1925.86 1513.66 1931.09 1513.66 Q1937.09 1513.66 1940.24 1518.27 Q1943.41 1522.85 1943.41 1531.6 Q1943.41 1539.77 1939.52 1544.66 Q1935.66 1549.52 1929.1 1549.52 Q1927.34 1549.52 1925.54 1549.17 Q1923.73 1548.82 1921.79 1548.13 M1931.09 1533.48 Q1934.24 1533.48 1936.07 1531.32 Q1937.92 1529.17 1937.92 1525.42 Q1937.92 1521.7 1936.07 1519.54 Q1934.24 1517.37 1931.09 1517.37 Q1927.95 1517.37 1926.09 1519.54 Q1924.27 1521.7 1924.27 1525.42 Q1924.27 1529.17 1926.09 1531.32 Q1927.95 1533.48 1931.09 1533.48 Z\" fill=\"#000000\" fill-rule=\"nonzero\" fill-opacity=\"1\" /><polyline clip-path=\"url(#clip432)\" style=\"stroke:#000000; stroke-linecap:round; stroke-linejoin:round; stroke-width:2; stroke-opacity:0.1; fill:none\" points=\"138.959,1259.14 2352.76,1259.14 \"/>\n",
       "<polyline clip-path=\"url(#clip432)\" style=\"stroke:#000000; stroke-linecap:round; stroke-linejoin:round; stroke-width:2; stroke-opacity:0.1; fill:none\" points=\"138.959,896.017 2352.76,896.017 \"/>\n",
       "<polyline clip-path=\"url(#clip432)\" style=\"stroke:#000000; stroke-linecap:round; stroke-linejoin:round; stroke-width:2; stroke-opacity:0.1; fill:none\" points=\"138.959,532.89 2352.76,532.89 \"/>\n",
       "<polyline clip-path=\"url(#clip432)\" style=\"stroke:#000000; stroke-linecap:round; stroke-linejoin:round; stroke-width:2; stroke-opacity:0.1; fill:none\" points=\"138.959,169.763 2352.76,169.763 \"/>\n",
       "<polyline clip-path=\"url(#clip430)\" style=\"stroke:#000000; stroke-linecap:round; stroke-linejoin:round; stroke-width:4; stroke-opacity:1; fill:none\" points=\"138.959,1486.45 138.959,47.2441 \"/>\n",
       "<polyline clip-path=\"url(#clip430)\" style=\"stroke:#000000; stroke-linecap:round; stroke-linejoin:round; stroke-width:4; stroke-opacity:1; fill:none\" points=\"138.959,1259.14 157.857,1259.14 \"/>\n",
       "<polyline clip-path=\"url(#clip430)\" style=\"stroke:#000000; stroke-linecap:round; stroke-linejoin:round; stroke-width:4; stroke-opacity:1; fill:none\" points=\"138.959,896.017 157.857,896.017 \"/>\n",
       "<polyline clip-path=\"url(#clip430)\" style=\"stroke:#000000; stroke-linecap:round; stroke-linejoin:round; stroke-width:4; stroke-opacity:1; fill:none\" points=\"138.959,532.89 157.857,532.89 \"/>\n",
       "<polyline clip-path=\"url(#clip430)\" style=\"stroke:#000000; stroke-linecap:round; stroke-linejoin:round; stroke-width:4; stroke-opacity:1; fill:none\" points=\"138.959,169.763 157.857,169.763 \"/>\n",
       "<path clip-path=\"url(#clip430)\" d=\"M91.4317 1257.28 Q88.2836 1257.28 86.4318 1259.43 Q84.6031 1261.59 84.6031 1265.34 Q84.6031 1269.06 86.4318 1271.24 Q88.2836 1273.39 91.4317 1273.39 Q94.5799 1273.39 96.4085 1271.24 Q98.2604 1269.06 98.2604 1265.34 Q98.2604 1261.59 96.4085 1259.43 Q94.5799 1257.28 91.4317 1257.28 M100.714 1242.63 L100.714 1246.89 Q98.9548 1246.05 97.1493 1245.61 Q95.3669 1245.17 93.6076 1245.17 Q88.978 1245.17 86.5243 1248.3 Q84.0938 1251.42 83.7466 1257.74 Q85.1123 1255.73 87.1725 1254.67 Q89.2327 1253.58 91.7095 1253.58 Q96.9178 1253.58 99.927 1256.75 Q102.959 1259.9 102.959 1265.34 Q102.959 1270.66 99.8113 1273.88 Q96.6632 1277.1 91.4317 1277.1 Q85.4364 1277.1 82.2651 1272.51 Q79.0938 1267.91 79.0938 1259.18 Q79.0938 1250.98 82.9827 1246.12 Q86.8716 1241.24 93.4225 1241.24 Q95.1817 1241.24 96.9641 1241.59 Q98.7696 1241.93 100.714 1242.63 Z\" fill=\"#000000\" fill-rule=\"nonzero\" fill-opacity=\"1\" /><path clip-path=\"url(#clip430)\" d=\"M91.1077 896.885 Q87.7743 896.885 85.8531 898.668 Q83.9549 900.45 83.9549 903.575 Q83.9549 906.7 85.8531 908.482 Q87.7743 910.265 91.1077 910.265 Q94.441 910.265 96.3623 908.482 Q98.2835 906.677 98.2835 903.575 Q98.2835 900.45 96.3623 898.668 Q94.4641 896.885 91.1077 896.885 M86.4318 894.894 Q83.4225 894.154 81.7327 892.094 Q80.066 890.033 80.066 887.07 Q80.066 882.927 83.0058 880.52 Q85.9688 878.112 91.1077 878.112 Q96.2697 878.112 99.2095 880.52 Q102.149 882.927 102.149 887.07 Q102.149 890.033 100.459 892.094 Q98.7928 894.154 95.8067 894.894 Q99.1863 895.681 101.061 897.973 Q102.959 900.265 102.959 903.575 Q102.959 908.598 99.8808 911.283 Q96.8252 913.968 91.1077 913.968 Q85.3901 913.968 82.3114 911.283 Q79.2559 908.598 79.2559 903.575 Q79.2559 900.265 81.154 897.973 Q83.0521 895.681 86.4318 894.894 M84.7188 887.51 Q84.7188 890.195 86.3855 891.7 Q88.0753 893.205 91.1077 893.205 Q94.1169 893.205 95.8067 891.7 Q97.5197 890.195 97.5197 887.51 Q97.5197 884.825 95.8067 883.32 Q94.1169 881.816 91.1077 881.816 Q88.0753 881.816 86.3855 883.32 Q84.7188 884.825 84.7188 887.51 Z\" fill=\"#000000\" fill-rule=\"nonzero\" fill-opacity=\"1\" /><path clip-path=\"url(#clip430)\" d=\"M51.6634 546.235 L59.3023 546.235 L59.3023 519.869 L50.9921 521.536 L50.9921 517.277 L59.256 515.61 L63.9319 515.61 L63.9319 546.235 L71.5707 546.235 L71.5707 550.17 L51.6634 550.17 L51.6634 546.235 Z\" fill=\"#000000\" fill-rule=\"nonzero\" fill-opacity=\"1\" /><path clip-path=\"url(#clip430)\" d=\"M91.0151 518.689 Q87.404 518.689 85.5753 522.254 Q83.7697 525.795 83.7697 532.925 Q83.7697 540.031 85.5753 543.596 Q87.404 547.138 91.0151 547.138 Q94.6493 547.138 96.4548 543.596 Q98.2835 540.031 98.2835 532.925 Q98.2835 525.795 96.4548 522.254 Q94.6493 518.689 91.0151 518.689 M91.0151 514.985 Q96.8252 514.985 99.8808 519.591 Q102.959 524.175 102.959 532.925 Q102.959 541.652 99.8808 546.258 Q96.8252 550.841 91.0151 550.841 Q85.2049 550.841 82.1262 546.258 Q79.0707 541.652 79.0707 532.925 Q79.0707 524.175 82.1262 519.591 Q85.2049 514.985 91.0151 514.985 Z\" fill=\"#000000\" fill-rule=\"nonzero\" fill-opacity=\"1\" /><path clip-path=\"url(#clip430)\" d=\"M53.2606 183.108 L60.8995 183.108 L60.8995 156.742 L52.5893 158.409 L52.5893 154.15 L60.8532 152.483 L65.5291 152.483 L65.5291 183.108 L73.1679 183.108 L73.1679 187.043 L53.2606 187.043 L53.2606 183.108 Z\" fill=\"#000000\" fill-rule=\"nonzero\" fill-opacity=\"1\" /><path clip-path=\"url(#clip430)\" d=\"M86.6401 183.108 L102.959 183.108 L102.959 187.043 L81.0151 187.043 L81.0151 183.108 Q83.6771 180.353 88.2604 175.724 Q92.8669 171.071 94.0475 169.728 Q96.2928 167.205 97.1724 165.469 Q98.0752 163.71 98.0752 162.02 Q98.0752 159.265 96.1308 157.529 Q94.2095 155.793 91.1077 155.793 Q88.9086 155.793 86.4549 156.557 Q84.0244 157.321 81.2466 158.872 L81.2466 154.15 Q84.0707 153.015 86.5243 152.437 Q88.978 151.858 91.0151 151.858 Q96.3854 151.858 99.5798 154.543 Q102.774 157.228 102.774 161.719 Q102.774 163.849 101.964 165.77 Q101.177 167.668 99.0706 170.261 Q98.4919 170.932 95.39 174.149 Q92.2882 177.344 86.6401 183.108 Z\" fill=\"#000000\" fill-rule=\"nonzero\" fill-opacity=\"1\" /><circle clip-path=\"url(#clip432)\" cx=\"2107.68\" cy=\"374.579\" r=\"14.4\" fill=\"#009af9\" fill-rule=\"evenodd\" fill-opacity=\"1\" stroke=\"#000000\" stroke-opacity=\"1\" stroke-width=\"3.2\"/>\n",
       "<circle clip-path=\"url(#clip432)\" cx=\"2269.76\" cy=\"287.646\" r=\"14.4\" fill=\"#009af9\" fill-rule=\"evenodd\" fill-opacity=\"1\" stroke=\"#000000\" stroke-opacity=\"1\" stroke-width=\"3.2\"/>\n",
       "<circle clip-path=\"url(#clip432)\" cx=\"2259.49\" cy=\"295.058\" r=\"14.4\" fill=\"#009af9\" fill-rule=\"evenodd\" fill-opacity=\"1\" stroke=\"#000000\" stroke-opacity=\"1\" stroke-width=\"3.2\"/>\n",
       "<circle clip-path=\"url(#clip432)\" cx=\"2283.38\" cy=\"184.939\" r=\"14.4\" fill=\"#009af9\" fill-rule=\"evenodd\" fill-opacity=\"1\" stroke=\"#000000\" stroke-opacity=\"1\" stroke-width=\"3.2\"/>\n",
       "<circle clip-path=\"url(#clip432)\" cx=\"2274.44\" cy=\"486.368\" r=\"14.4\" fill=\"#009af9\" fill-rule=\"evenodd\" fill-opacity=\"1\" stroke=\"#000000\" stroke-opacity=\"1\" stroke-width=\"3.2\"/>\n",
       "<circle clip-path=\"url(#clip432)\" cx=\"2284.96\" cy=\"227.204\" r=\"14.4\" fill=\"#009af9\" fill-rule=\"evenodd\" fill-opacity=\"1\" stroke=\"#000000\" stroke-opacity=\"1\" stroke-width=\"3.2\"/>\n",
       "<circle clip-path=\"url(#clip432)\" cx=\"1720.39\" cy=\"706.12\" r=\"14.4\" fill=\"#009af9\" fill-rule=\"evenodd\" fill-opacity=\"1\" stroke=\"#000000\" stroke-opacity=\"1\" stroke-width=\"3.2\"/>\n",
       "<circle clip-path=\"url(#clip432)\" cx=\"2142.99\" cy=\"249.867\" r=\"14.4\" fill=\"#009af9\" fill-rule=\"evenodd\" fill-opacity=\"1\" stroke=\"#000000\" stroke-opacity=\"1\" stroke-width=\"3.2\"/>\n",
       "<circle clip-path=\"url(#clip432)\" cx=\"2268.99\" cy=\"331.64\" r=\"14.4\" fill=\"#009af9\" fill-rule=\"evenodd\" fill-opacity=\"1\" stroke=\"#000000\" stroke-opacity=\"1\" stroke-width=\"3.2\"/>\n",
       "<circle clip-path=\"url(#clip432)\" cx=\"2276.53\" cy=\"143.299\" r=\"14.4\" fill=\"#009af9\" fill-rule=\"evenodd\" fill-opacity=\"1\" stroke=\"#000000\" stroke-opacity=\"1\" stroke-width=\"3.2\"/>\n",
       "<circle clip-path=\"url(#clip432)\" cx=\"2290.1\" cy=\"137.936\" r=\"14.4\" fill=\"#009af9\" fill-rule=\"evenodd\" fill-opacity=\"1\" stroke=\"#000000\" stroke-opacity=\"1\" stroke-width=\"3.2\"/>\n",
       "<circle clip-path=\"url(#clip432)\" cx=\"2285.55\" cy=\"87.9763\" r=\"14.4\" fill=\"#009af9\" fill-rule=\"evenodd\" fill-opacity=\"1\" stroke=\"#000000\" stroke-opacity=\"1\" stroke-width=\"3.2\"/>\n",
       "<circle clip-path=\"url(#clip432)\" cx=\"1317.31\" cy=\"962.003\" r=\"14.4\" fill=\"#009af9\" fill-rule=\"evenodd\" fill-opacity=\"1\" stroke=\"#000000\" stroke-opacity=\"1\" stroke-width=\"3.2\"/>\n",
       "<circle clip-path=\"url(#clip432)\" cx=\"1779.27\" cy=\"548.327\" r=\"14.4\" fill=\"#009af9\" fill-rule=\"evenodd\" fill-opacity=\"1\" stroke=\"#000000\" stroke-opacity=\"1\" stroke-width=\"3.2\"/>\n",
       "<circle clip-path=\"url(#clip432)\" cx=\"2132.58\" cy=\"344.313\" r=\"14.4\" fill=\"#009af9\" fill-rule=\"evenodd\" fill-opacity=\"1\" stroke=\"#000000\" stroke-opacity=\"1\" stroke-width=\"3.2\"/>\n",
       "<circle clip-path=\"url(#clip432)\" cx=\"2244.21\" cy=\"321.121\" r=\"14.4\" fill=\"#009af9\" fill-rule=\"evenodd\" fill-opacity=\"1\" stroke=\"#000000\" stroke-opacity=\"1\" stroke-width=\"3.2\"/>\n",
       "<circle clip-path=\"url(#clip432)\" cx=\"2260.61\" cy=\"280.262\" r=\"14.4\" fill=\"#009af9\" fill-rule=\"evenodd\" fill-opacity=\"1\" stroke=\"#000000\" stroke-opacity=\"1\" stroke-width=\"3.2\"/>\n",
       "<circle clip-path=\"url(#clip432)\" cx=\"2269.55\" cy=\"277.189\" r=\"14.4\" fill=\"#009af9\" fill-rule=\"evenodd\" fill-opacity=\"1\" stroke=\"#000000\" stroke-opacity=\"1\" stroke-width=\"3.2\"/>\n",
       "<circle clip-path=\"url(#clip432)\" cx=\"1227.96\" cy=\"1038.53\" r=\"14.4\" fill=\"#009af9\" fill-rule=\"evenodd\" fill-opacity=\"1\" stroke=\"#000000\" stroke-opacity=\"1\" stroke-width=\"3.2\"/>\n",
       "<circle clip-path=\"url(#clip432)\" cx=\"1485.95\" cy=\"816.572\" r=\"14.4\" fill=\"#009af9\" fill-rule=\"evenodd\" fill-opacity=\"1\" stroke=\"#000000\" stroke-opacity=\"1\" stroke-width=\"3.2\"/>\n",
       "<circle clip-path=\"url(#clip432)\" cx=\"1904.03\" cy=\"548.071\" r=\"14.4\" fill=\"#009af9\" fill-rule=\"evenodd\" fill-opacity=\"1\" stroke=\"#000000\" stroke-opacity=\"1\" stroke-width=\"3.2\"/>\n",
       "<circle clip-path=\"url(#clip432)\" cx=\"2110.91\" cy=\"273.791\" r=\"14.4\" fill=\"#009af9\" fill-rule=\"evenodd\" fill-opacity=\"1\" stroke=\"#000000\" stroke-opacity=\"1\" stroke-width=\"3.2\"/>\n",
       "<circle clip-path=\"url(#clip432)\" cx=\"2233.64\" cy=\"204.596\" r=\"14.4\" fill=\"#009af9\" fill-rule=\"evenodd\" fill-opacity=\"1\" stroke=\"#000000\" stroke-opacity=\"1\" stroke-width=\"3.2\"/>\n",
       "<circle clip-path=\"url(#clip432)\" cx=\"2251.37\" cy=\"249.331\" r=\"14.4\" fill=\"#009af9\" fill-rule=\"evenodd\" fill-opacity=\"1\" stroke=\"#000000\" stroke-opacity=\"1\" stroke-width=\"3.2\"/>\n",
       "<circle clip-path=\"url(#clip432)\" cx=\"201.614\" cy=\"1445.72\" r=\"14.4\" fill=\"#009af9\" fill-rule=\"evenodd\" fill-opacity=\"1\" stroke=\"#000000\" stroke-opacity=\"1\" stroke-width=\"3.2\"/>\n",
       "<circle clip-path=\"url(#clip432)\" cx=\"1231.92\" cy=\"1035.84\" r=\"14.4\" fill=\"#009af9\" fill-rule=\"evenodd\" fill-opacity=\"1\" stroke=\"#000000\" stroke-opacity=\"1\" stroke-width=\"3.2\"/>\n",
       "<circle clip-path=\"url(#clip432)\" cx=\"1496.2\" cy=\"763.655\" r=\"14.4\" fill=\"#009af9\" fill-rule=\"evenodd\" fill-opacity=\"1\" stroke=\"#000000\" stroke-opacity=\"1\" stroke-width=\"3.2\"/>\n",
       "<circle clip-path=\"url(#clip432)\" cx=\"1982.11\" cy=\"514.426\" r=\"14.4\" fill=\"#009af9\" fill-rule=\"evenodd\" fill-opacity=\"1\" stroke=\"#000000\" stroke-opacity=\"1\" stroke-width=\"3.2\"/>\n",
       "<circle clip-path=\"url(#clip432)\" cx=\"2107.64\" cy=\"481.286\" r=\"14.4\" fill=\"#009af9\" fill-rule=\"evenodd\" fill-opacity=\"1\" stroke=\"#000000\" stroke-opacity=\"1\" stroke-width=\"3.2\"/>\n",
       "<circle clip-path=\"url(#clip432)\" cx=\"2254.54\" cy=\"129.275\" r=\"14.4\" fill=\"#009af9\" fill-rule=\"evenodd\" fill-opacity=\"1\" stroke=\"#000000\" stroke-opacity=\"1\" stroke-width=\"3.2\"/>\n",
       "<circle clip-path=\"url(#clip432)\" cx=\"673.383\" cy=\"1312.36\" r=\"14.4\" fill=\"#009af9\" fill-rule=\"evenodd\" fill-opacity=\"1\" stroke=\"#000000\" stroke-opacity=\"1\" stroke-width=\"3.2\"/>\n",
       "<circle clip-path=\"url(#clip432)\" cx=\"982.609\" cy=\"1204.88\" r=\"14.4\" fill=\"#009af9\" fill-rule=\"evenodd\" fill-opacity=\"1\" stroke=\"#000000\" stroke-opacity=\"1\" stroke-width=\"3.2\"/>\n",
       "<circle clip-path=\"url(#clip432)\" cx=\"1215.56\" cy=\"1024.86\" r=\"14.4\" fill=\"#009af9\" fill-rule=\"evenodd\" fill-opacity=\"1\" stroke=\"#000000\" stroke-opacity=\"1\" stroke-width=\"3.2\"/>\n",
       "<circle clip-path=\"url(#clip432)\" cx=\"1735.52\" cy=\"779.172\" r=\"14.4\" fill=\"#009af9\" fill-rule=\"evenodd\" fill-opacity=\"1\" stroke=\"#000000\" stroke-opacity=\"1\" stroke-width=\"3.2\"/>\n",
       "<circle clip-path=\"url(#clip432)\" cx=\"1877.05\" cy=\"517.551\" r=\"14.4\" fill=\"#009af9\" fill-rule=\"evenodd\" fill-opacity=\"1\" stroke=\"#000000\" stroke-opacity=\"1\" stroke-width=\"3.2\"/>\n",
       "<circle clip-path=\"url(#clip432)\" cx=\"2033.62\" cy=\"575.796\" r=\"14.4\" fill=\"#009af9\" fill-rule=\"evenodd\" fill-opacity=\"1\" stroke=\"#000000\" stroke-opacity=\"1\" stroke-width=\"3.2\"/>\n",
       "<path clip-path=\"url(#clip430)\" d=\"M212.753 198.898 L486.563 198.898 L486.563 95.2176 L212.753 95.2176  Z\" fill=\"#ffffff\" fill-rule=\"evenodd\" fill-opacity=\"1\"/>\n",
       "<polyline clip-path=\"url(#clip430)\" style=\"stroke:#000000; stroke-linecap:round; stroke-linejoin:round; stroke-width:4; stroke-opacity:1; fill:none\" points=\"212.753,198.898 486.563,198.898 486.563,95.2176 212.753,95.2176 212.753,198.898 \"/>\n",
       "<circle clip-path=\"url(#clip430)\" cx=\"311.144\" cy=\"147.058\" r=\"23.04\" fill=\"#009af9\" fill-rule=\"evenodd\" fill-opacity=\"1\" stroke=\"#000000\" stroke-opacity=\"1\" stroke-width=\"5.12\"/>\n",
       "<path clip-path=\"url(#clip430)\" d=\"M423.377 166.745 Q421.572 171.375 419.859 172.787 Q418.146 174.199 415.275 174.199 L411.873 174.199 L411.873 170.634 L414.373 170.634 Q416.132 170.634 417.104 169.8 Q418.076 168.967 419.257 165.865 L420.021 163.921 L409.535 138.412 L414.048 138.412 L422.15 158.689 L430.252 138.412 L434.766 138.412 L423.377 166.745 Z\" fill=\"#000000\" fill-rule=\"nonzero\" fill-opacity=\"1\" /><path clip-path=\"url(#clip430)\" d=\"M442.058 160.402 L449.696 160.402 L449.696 134.037 L441.386 135.703 L441.386 131.444 L449.65 129.778 L454.326 129.778 L454.326 160.402 L461.965 160.402 L461.965 164.338 L442.058 164.338 L442.058 160.402 Z\" fill=\"#000000\" fill-rule=\"nonzero\" fill-opacity=\"1\" /></svg>\n"
      ]
     },
     "execution_count": 19,
     "metadata": {},
     "output_type": "execute_result"
    }
   ],
   "source": [
    "scatter(wet_ratio_matrix[:],cond_matrix[:])"
   ]
  },
  {
   "cell_type": "code",
   "execution_count": 20,
   "metadata": {},
   "outputs": [
    {
     "data": {
      "image/svg+xml": [
       "<?xml version=\"1.0\" encoding=\"utf-8\"?>\n",
       "<svg xmlns=\"http://www.w3.org/2000/svg\" xmlns:xlink=\"http://www.w3.org/1999/xlink\" width=\"600\" height=\"400\" viewBox=\"0 0 2400 1600\">\n",
       "<defs>\n",
       "  <clipPath id=\"clip470\">\n",
       "    <rect x=\"0\" y=\"0\" width=\"2400\" height=\"1600\"/>\n",
       "  </clipPath>\n",
       "</defs>\n",
       "<path clip-path=\"url(#clip470)\" d=\"M0 1600 L2400 1600 L2400 0 L0 0  Z\" fill=\"#ffffff\" fill-rule=\"evenodd\" fill-opacity=\"1\"/>\n",
       "<defs>\n",
       "  <clipPath id=\"clip471\">\n",
       "    <rect x=\"480\" y=\"0\" width=\"1681\" height=\"1600\"/>\n",
       "  </clipPath>\n",
       "</defs>\n",
       "<path clip-path=\"url(#clip470)\" d=\"M335.305 1486.45 L2352.76 1486.45 L2352.76 47.2441 L335.305 47.2441  Z\" fill=\"#ffffff\" fill-rule=\"evenodd\" fill-opacity=\"1\"/>\n",
       "<defs>\n",
       "  <clipPath id=\"clip472\">\n",
       "    <rect x=\"335\" y=\"47\" width=\"2018\" height=\"1440\"/>\n",
       "  </clipPath>\n",
       "</defs>\n",
       "<polyline clip-path=\"url(#clip472)\" style=\"stroke:#000000; stroke-linecap:round; stroke-linejoin:round; stroke-width:2; stroke-opacity:0.1; fill:none\" points=\"664.881,1486.45 664.881,47.2441 \"/>\n",
       "<polyline clip-path=\"url(#clip472)\" style=\"stroke:#000000; stroke-linecap:round; stroke-linejoin:round; stroke-width:2; stroke-opacity:0.1; fill:none\" points=\"1092.69,1486.45 1092.69,47.2441 \"/>\n",
       "<polyline clip-path=\"url(#clip472)\" style=\"stroke:#000000; stroke-linecap:round; stroke-linejoin:round; stroke-width:2; stroke-opacity:0.1; fill:none\" points=\"1520.5,1486.45 1520.5,47.2441 \"/>\n",
       "<polyline clip-path=\"url(#clip472)\" style=\"stroke:#000000; stroke-linecap:round; stroke-linejoin:round; stroke-width:2; stroke-opacity:0.1; fill:none\" points=\"1948.3,1486.45 1948.3,47.2441 \"/>\n",
       "<polyline clip-path=\"url(#clip470)\" style=\"stroke:#000000; stroke-linecap:round; stroke-linejoin:round; stroke-width:4; stroke-opacity:1; fill:none\" points=\"335.305,1486.45 2352.76,1486.45 \"/>\n",
       "<polyline clip-path=\"url(#clip470)\" style=\"stroke:#000000; stroke-linecap:round; stroke-linejoin:round; stroke-width:4; stroke-opacity:1; fill:none\" points=\"664.881,1486.45 664.881,1467.55 \"/>\n",
       "<polyline clip-path=\"url(#clip470)\" style=\"stroke:#000000; stroke-linecap:round; stroke-linejoin:round; stroke-width:4; stroke-opacity:1; fill:none\" points=\"1092.69,1486.45 1092.69,1467.55 \"/>\n",
       "<polyline clip-path=\"url(#clip470)\" style=\"stroke:#000000; stroke-linecap:round; stroke-linejoin:round; stroke-width:4; stroke-opacity:1; fill:none\" points=\"1520.5,1486.45 1520.5,1467.55 \"/>\n",
       "<polyline clip-path=\"url(#clip470)\" style=\"stroke:#000000; stroke-linecap:round; stroke-linejoin:round; stroke-width:4; stroke-opacity:1; fill:none\" points=\"1948.3,1486.45 1948.3,1467.55 \"/>\n",
       "<path clip-path=\"url(#clip470)\" d=\"M642.184 1517.37 Q638.573 1517.37 636.744 1520.93 Q634.939 1524.47 634.939 1531.6 Q634.939 1538.71 636.744 1542.27 Q638.573 1545.82 642.184 1545.82 Q645.818 1545.82 647.624 1542.27 Q649.452 1538.71 649.452 1531.6 Q649.452 1524.47 647.624 1520.93 Q645.818 1517.37 642.184 1517.37 M642.184 1513.66 Q647.994 1513.66 651.05 1518.27 Q654.128 1522.85 654.128 1531.6 Q654.128 1540.33 651.05 1544.94 Q647.994 1549.52 642.184 1549.52 Q636.374 1549.52 633.295 1544.94 Q630.24 1540.33 630.24 1531.6 Q630.24 1522.85 633.295 1518.27 Q636.374 1513.66 642.184 1513.66 Z\" fill=\"#000000\" fill-rule=\"nonzero\" fill-opacity=\"1\" /><path clip-path=\"url(#clip470)\" d=\"M662.346 1542.97 L667.23 1542.97 L667.23 1548.85 L662.346 1548.85 L662.346 1542.97 Z\" fill=\"#000000\" fill-rule=\"nonzero\" fill-opacity=\"1\" /><path clip-path=\"url(#clip470)\" d=\"M687.994 1529.7 Q684.846 1529.7 682.994 1531.86 Q681.165 1534.01 681.165 1537.76 Q681.165 1541.49 682.994 1543.66 Q684.846 1545.82 687.994 1545.82 Q691.142 1545.82 692.971 1543.66 Q694.823 1541.49 694.823 1537.76 Q694.823 1534.01 692.971 1531.86 Q691.142 1529.7 687.994 1529.7 M697.276 1515.05 L697.276 1519.31 Q695.517 1518.48 693.711 1518.04 Q691.929 1517.6 690.17 1517.6 Q685.54 1517.6 683.086 1520.72 Q680.656 1523.85 680.309 1530.17 Q681.674 1528.15 683.735 1527.09 Q685.795 1526 688.272 1526 Q693.48 1526 696.489 1529.17 Q699.522 1532.32 699.522 1537.76 Q699.522 1543.08 696.373 1546.3 Q693.225 1549.52 687.994 1549.52 Q681.999 1549.52 678.827 1544.94 Q675.656 1540.33 675.656 1531.6 Q675.656 1523.41 679.545 1518.55 Q683.434 1513.66 689.985 1513.66 Q691.744 1513.66 693.526 1514.01 Q695.332 1514.36 697.276 1515.05 Z\" fill=\"#000000\" fill-rule=\"nonzero\" fill-opacity=\"1\" /><path clip-path=\"url(#clip470)\" d=\"M1070.52 1517.37 Q1066.91 1517.37 1065.08 1520.93 Q1063.28 1524.47 1063.28 1531.6 Q1063.28 1538.71 1065.08 1542.27 Q1066.91 1545.82 1070.52 1545.82 Q1074.16 1545.82 1075.96 1542.27 Q1077.79 1538.71 1077.79 1531.6 Q1077.79 1524.47 1075.96 1520.93 Q1074.16 1517.37 1070.52 1517.37 M1070.52 1513.66 Q1076.33 1513.66 1079.39 1518.27 Q1082.47 1522.85 1082.47 1531.6 Q1082.47 1540.33 1079.39 1544.94 Q1076.33 1549.52 1070.52 1549.52 Q1064.71 1549.52 1061.64 1544.94 Q1058.58 1540.33 1058.58 1531.6 Q1058.58 1522.85 1061.64 1518.27 Q1064.71 1513.66 1070.52 1513.66 Z\" fill=\"#000000\" fill-rule=\"nonzero\" fill-opacity=\"1\" /><path clip-path=\"url(#clip470)\" d=\"M1090.69 1542.97 L1095.57 1542.97 L1095.57 1548.85 L1090.69 1548.85 L1090.69 1542.97 Z\" fill=\"#000000\" fill-rule=\"nonzero\" fill-opacity=\"1\" /><path clip-path=\"url(#clip470)\" d=\"M1104.58 1514.29 L1126.8 1514.29 L1126.8 1516.28 L1114.25 1548.85 L1109.37 1548.85 L1121.17 1518.22 L1104.58 1518.22 L1104.58 1514.29 Z\" fill=\"#000000\" fill-rule=\"nonzero\" fill-opacity=\"1\" /><path clip-path=\"url(#clip470)\" d=\"M1497.93 1517.37 Q1494.32 1517.37 1492.49 1520.93 Q1490.68 1524.47 1490.68 1531.6 Q1490.68 1538.71 1492.49 1542.27 Q1494.32 1545.82 1497.93 1545.82 Q1501.56 1545.82 1503.37 1542.27 Q1505.2 1538.71 1505.2 1531.6 Q1505.2 1524.47 1503.37 1520.93 Q1501.56 1517.37 1497.93 1517.37 M1497.93 1513.66 Q1503.74 1513.66 1506.79 1518.27 Q1509.87 1522.85 1509.87 1531.6 Q1509.87 1540.33 1506.79 1544.94 Q1503.74 1549.52 1497.93 1549.52 Q1492.12 1549.52 1489.04 1544.94 Q1485.98 1540.33 1485.98 1531.6 Q1485.98 1522.85 1489.04 1518.27 Q1492.12 1513.66 1497.93 1513.66 Z\" fill=\"#000000\" fill-rule=\"nonzero\" fill-opacity=\"1\" /><path clip-path=\"url(#clip470)\" d=\"M1518.09 1542.97 L1522.97 1542.97 L1522.97 1548.85 L1518.09 1548.85 L1518.09 1542.97 Z\" fill=\"#000000\" fill-rule=\"nonzero\" fill-opacity=\"1\" /><path clip-path=\"url(#clip470)\" d=\"M1543.16 1532.44 Q1539.83 1532.44 1537.9 1534.22 Q1536.01 1536 1536.01 1539.13 Q1536.01 1542.25 1537.9 1544.03 Q1539.83 1545.82 1543.16 1545.82 Q1546.49 1545.82 1548.41 1544.03 Q1550.33 1542.23 1550.33 1539.13 Q1550.33 1536 1548.41 1534.22 Q1546.52 1532.44 1543.16 1532.44 M1538.48 1530.45 Q1535.47 1529.7 1533.78 1527.64 Q1532.12 1525.58 1532.12 1522.62 Q1532.12 1518.48 1535.06 1516.07 Q1538.02 1513.66 1543.16 1513.66 Q1548.32 1513.66 1551.26 1516.07 Q1554.2 1518.48 1554.2 1522.62 Q1554.2 1525.58 1552.51 1527.64 Q1550.84 1529.7 1547.86 1530.45 Q1551.24 1531.23 1553.11 1533.52 Q1555.01 1535.82 1555.01 1539.13 Q1555.01 1544.15 1551.93 1546.83 Q1548.88 1549.52 1543.16 1549.52 Q1537.44 1549.52 1534.36 1546.83 Q1531.31 1544.15 1531.31 1539.13 Q1531.31 1535.82 1533.21 1533.52 Q1535.1 1531.23 1538.48 1530.45 M1536.77 1523.06 Q1536.77 1525.75 1538.44 1527.25 Q1540.13 1528.76 1543.16 1528.76 Q1546.17 1528.76 1547.86 1527.25 Q1549.57 1525.75 1549.57 1523.06 Q1549.57 1520.38 1547.86 1518.87 Q1546.17 1517.37 1543.16 1517.37 Q1540.13 1517.37 1538.44 1518.87 Q1536.77 1520.38 1536.77 1523.06 Z\" fill=\"#000000\" fill-rule=\"nonzero\" fill-opacity=\"1\" /><path clip-path=\"url(#clip470)\" d=\"M1925.78 1517.37 Q1922.17 1517.37 1920.34 1520.93 Q1918.54 1524.47 1918.54 1531.6 Q1918.54 1538.71 1920.34 1542.27 Q1922.17 1545.82 1925.78 1545.82 Q1929.42 1545.82 1931.22 1542.27 Q1933.05 1538.71 1933.05 1531.6 Q1933.05 1524.47 1931.22 1520.93 Q1929.42 1517.37 1925.78 1517.37 M1925.78 1513.66 Q1931.59 1513.66 1934.65 1518.27 Q1937.73 1522.85 1937.73 1531.6 Q1937.73 1540.33 1934.65 1544.94 Q1931.59 1549.52 1925.78 1549.52 Q1919.97 1549.52 1916.89 1544.94 Q1913.84 1540.33 1913.84 1531.6 Q1913.84 1522.85 1916.89 1518.27 Q1919.97 1513.66 1925.78 1513.66 Z\" fill=\"#000000\" fill-rule=\"nonzero\" fill-opacity=\"1\" /><path clip-path=\"url(#clip470)\" d=\"M1945.94 1542.97 L1950.83 1542.97 L1950.83 1548.85 L1945.94 1548.85 L1945.94 1542.97 Z\" fill=\"#000000\" fill-rule=\"nonzero\" fill-opacity=\"1\" /><path clip-path=\"url(#clip470)\" d=\"M1961.15 1548.13 L1961.15 1543.87 Q1962.91 1544.7 1964.72 1545.14 Q1966.52 1545.58 1968.26 1545.58 Q1972.89 1545.58 1975.32 1542.48 Q1977.77 1539.36 1978.12 1533.01 Q1976.78 1535.01 1974.72 1536.07 Q1972.66 1537.13 1970.16 1537.13 Q1964.97 1537.13 1961.94 1534.01 Q1958.93 1530.86 1958.93 1525.42 Q1958.93 1520.1 1962.08 1516.88 Q1965.23 1513.66 1970.46 1513.66 Q1976.45 1513.66 1979.6 1518.27 Q1982.77 1522.85 1982.77 1531.6 Q1982.77 1539.77 1978.88 1544.66 Q1975.02 1549.52 1968.47 1549.52 Q1966.71 1549.52 1964.9 1549.17 Q1963.1 1548.82 1961.15 1548.13 M1970.46 1533.48 Q1973.61 1533.48 1975.43 1531.32 Q1977.29 1529.17 1977.29 1525.42 Q1977.29 1521.7 1975.43 1519.54 Q1973.61 1517.37 1970.46 1517.37 Q1967.31 1517.37 1965.46 1519.54 Q1963.63 1521.7 1963.63 1525.42 Q1963.63 1529.17 1965.46 1531.32 Q1967.31 1533.48 1970.46 1533.48 Z\" fill=\"#000000\" fill-rule=\"nonzero\" fill-opacity=\"1\" /><polyline clip-path=\"url(#clip472)\" style=\"stroke:#000000; stroke-linecap:round; stroke-linejoin:round; stroke-width:2; stroke-opacity:0.1; fill:none\" points=\"335.305,1361.49 2352.76,1361.49 \"/>\n",
       "<polyline clip-path=\"url(#clip472)\" style=\"stroke:#000000; stroke-linecap:round; stroke-linejoin:round; stroke-width:2; stroke-opacity:0.1; fill:none\" points=\"335.305,1136.7 2352.76,1136.7 \"/>\n",
       "<polyline clip-path=\"url(#clip472)\" style=\"stroke:#000000; stroke-linecap:round; stroke-linejoin:round; stroke-width:2; stroke-opacity:0.1; fill:none\" points=\"335.305,911.904 2352.76,911.904 \"/>\n",
       "<polyline clip-path=\"url(#clip472)\" style=\"stroke:#000000; stroke-linecap:round; stroke-linejoin:round; stroke-width:2; stroke-opacity:0.1; fill:none\" points=\"335.305,687.11 2352.76,687.11 \"/>\n",
       "<polyline clip-path=\"url(#clip472)\" style=\"stroke:#000000; stroke-linecap:round; stroke-linejoin:round; stroke-width:2; stroke-opacity:0.1; fill:none\" points=\"335.305,462.317 2352.76,462.317 \"/>\n",
       "<polyline clip-path=\"url(#clip472)\" style=\"stroke:#000000; stroke-linecap:round; stroke-linejoin:round; stroke-width:2; stroke-opacity:0.1; fill:none\" points=\"335.305,237.523 2352.76,237.523 \"/>\n",
       "<polyline clip-path=\"url(#clip470)\" style=\"stroke:#000000; stroke-linecap:round; stroke-linejoin:round; stroke-width:4; stroke-opacity:1; fill:none\" points=\"335.305,1486.45 335.305,47.2441 \"/>\n",
       "<polyline clip-path=\"url(#clip470)\" style=\"stroke:#000000; stroke-linecap:round; stroke-linejoin:round; stroke-width:4; stroke-opacity:1; fill:none\" points=\"335.305,1361.49 354.203,1361.49 \"/>\n",
       "<polyline clip-path=\"url(#clip470)\" style=\"stroke:#000000; stroke-linecap:round; stroke-linejoin:round; stroke-width:4; stroke-opacity:1; fill:none\" points=\"335.305,1136.7 354.203,1136.7 \"/>\n",
       "<polyline clip-path=\"url(#clip470)\" style=\"stroke:#000000; stroke-linecap:round; stroke-linejoin:round; stroke-width:4; stroke-opacity:1; fill:none\" points=\"335.305,911.904 354.203,911.904 \"/>\n",
       "<polyline clip-path=\"url(#clip470)\" style=\"stroke:#000000; stroke-linecap:round; stroke-linejoin:round; stroke-width:4; stroke-opacity:1; fill:none\" points=\"335.305,687.11 354.203,687.11 \"/>\n",
       "<polyline clip-path=\"url(#clip470)\" style=\"stroke:#000000; stroke-linecap:round; stroke-linejoin:round; stroke-width:4; stroke-opacity:1; fill:none\" points=\"335.305,462.317 354.203,462.317 \"/>\n",
       "<polyline clip-path=\"url(#clip470)\" style=\"stroke:#000000; stroke-linecap:round; stroke-linejoin:round; stroke-width:4; stroke-opacity:1; fill:none\" points=\"335.305,237.523 354.203,237.523 \"/>\n",
       "<path clip-path=\"url(#clip470)\" d=\"M56.6171 1381.28 L72.9365 1381.28 L72.9365 1385.22 L50.9921 1385.22 L50.9921 1381.28 Q53.6541 1378.53 58.2375 1373.9 Q62.8439 1369.25 64.0245 1367.9 Q66.2698 1365.38 67.1494 1363.64 Q68.0522 1361.88 68.0522 1360.2 Q68.0522 1357.44 66.1078 1355.7 Q64.1865 1353.97 61.0847 1353.97 Q58.8856 1353.97 56.4319 1354.73 Q54.0014 1355.5 51.2236 1357.05 L51.2236 1352.32 Q54.0477 1351.19 56.5014 1350.61 Q58.955 1350.03 60.9921 1350.03 Q66.3624 1350.03 69.5568 1352.72 Q72.7513 1355.4 72.7513 1359.89 Q72.7513 1362.02 71.9411 1363.95 Q71.1541 1365.84 69.0476 1368.44 Q68.4689 1369.11 65.367 1372.32 Q62.2652 1375.52 56.6171 1381.28 Z\" fill=\"#000000\" fill-rule=\"nonzero\" fill-opacity=\"1\" /><path clip-path=\"url(#clip470)\" d=\"M82.7512 1379.34 L87.6354 1379.34 L87.6354 1385.22 L82.7512 1385.22 L82.7512 1379.34 Z\" fill=\"#000000\" fill-rule=\"nonzero\" fill-opacity=\"1\" /><path clip-path=\"url(#clip470)\" d=\"M96.64 1350.66 L118.862 1350.66 L118.862 1352.65 L106.316 1385.22 L101.432 1385.22 L113.237 1354.59 L96.64 1354.59 L96.64 1350.66 Z\" fill=\"#000000\" fill-rule=\"nonzero\" fill-opacity=\"1\" /><path clip-path=\"url(#clip470)\" d=\"M137.982 1353.74 Q134.371 1353.74 132.543 1357.3 Q130.737 1360.84 130.737 1367.97 Q130.737 1375.08 132.543 1378.64 Q134.371 1382.19 137.982 1382.19 Q141.617 1382.19 143.422 1378.64 Q145.251 1375.08 145.251 1367.97 Q145.251 1360.84 143.422 1357.3 Q141.617 1353.74 137.982 1353.74 M137.982 1350.03 Q143.793 1350.03 146.848 1354.64 Q149.927 1359.22 149.927 1367.97 Q149.927 1376.7 146.848 1381.31 Q143.793 1385.89 137.982 1385.89 Q132.172 1385.89 129.094 1381.31 Q126.038 1376.7 126.038 1367.97 Q126.038 1359.22 129.094 1354.64 Q132.172 1350.03 137.982 1350.03 Z\" fill=\"#000000\" fill-rule=\"nonzero\" fill-opacity=\"1\" /><path clip-path=\"url(#clip470)\" d=\"M186.315 1359.76 L175.737 1370.38 L186.315 1380.96 L183.561 1383.76 L172.936 1373.13 L162.311 1383.76 L159.58 1380.96 L170.135 1370.38 L159.58 1359.76 L162.311 1356.95 L172.936 1367.58 L183.561 1356.95 L186.315 1359.76 Z\" fill=\"#000000\" fill-rule=\"nonzero\" fill-opacity=\"1\" /><path clip-path=\"url(#clip470)\" d=\"M198.677 1381.28 L206.315 1381.28 L206.315 1354.92 L198.005 1356.58 L198.005 1352.32 L206.269 1350.66 L210.945 1350.66 L210.945 1381.28 L218.584 1381.28 L218.584 1385.22 L198.677 1385.22 L198.677 1381.28 Z\" fill=\"#000000\" fill-rule=\"nonzero\" fill-opacity=\"1\" /><path clip-path=\"url(#clip470)\" d=\"M238.028 1353.74 Q234.417 1353.74 232.588 1357.3 Q230.783 1360.84 230.783 1367.97 Q230.783 1375.08 232.588 1378.64 Q234.417 1382.19 238.028 1382.19 Q241.662 1382.19 243.468 1378.64 Q245.297 1375.08 245.297 1367.97 Q245.297 1360.84 243.468 1357.3 Q241.662 1353.74 238.028 1353.74 M238.028 1350.03 Q243.838 1350.03 246.894 1354.64 Q249.973 1359.22 249.973 1367.97 Q249.973 1376.7 246.894 1381.31 Q243.838 1385.89 238.028 1385.89 Q232.218 1385.89 229.139 1381.31 Q226.084 1376.7 226.084 1367.97 Q226.084 1359.22 229.139 1354.64 Q232.218 1350.03 238.028 1350.03 Z\" fill=\"#000000\" fill-rule=\"nonzero\" fill-opacity=\"1\" /><path clip-path=\"url(#clip470)\" d=\"M249.973 1344.13 L274.084 1344.13 L274.084 1347.33 L249.973 1347.33 L249.973 1344.13 Z\" fill=\"#000000\" fill-rule=\"nonzero\" fill-opacity=\"1\" /><path clip-path=\"url(#clip470)\" d=\"M282.322 1329.73 L297.236 1329.73 L297.236 1332.93 L285.801 1332.93 L285.801 1339.81 Q286.629 1339.53 287.456 1339.39 Q288.284 1339.24 289.112 1339.24 Q293.813 1339.24 296.559 1341.82 Q299.305 1344.4 299.305 1348.8 Q299.305 1353.33 296.484 1355.85 Q293.663 1358.35 288.528 1358.35 Q286.761 1358.35 284.917 1358.05 Q283.093 1357.75 281.137 1357.15 L281.137 1353.33 Q282.83 1354.25 284.635 1354.7 Q286.441 1355.16 288.453 1355.16 Q291.707 1355.16 293.607 1353.44 Q295.506 1351.73 295.506 1348.8 Q295.506 1345.86 293.607 1344.15 Q291.707 1342.44 288.453 1342.44 Q286.93 1342.44 285.406 1342.78 Q283.902 1343.12 282.322 1343.83 L282.322 1329.73 Z\" fill=\"#000000\" fill-rule=\"nonzero\" fill-opacity=\"1\" /><path clip-path=\"url(#clip470)\" d=\"M56.6171 1156.49 L72.9365 1156.49 L72.9365 1160.42 L50.9921 1160.42 L50.9921 1156.49 Q53.6541 1153.73 58.2375 1149.11 Q62.8439 1144.45 64.0245 1143.11 Q66.2698 1140.59 67.1494 1138.85 Q68.0522 1137.09 68.0522 1135.4 Q68.0522 1132.65 66.1078 1130.91 Q64.1865 1129.17 61.0847 1129.17 Q58.8856 1129.17 56.4319 1129.94 Q54.0014 1130.7 51.2236 1132.25 L51.2236 1127.53 Q54.0477 1126.4 56.5014 1125.82 Q58.955 1125.24 60.9921 1125.24 Q66.3624 1125.24 69.5568 1127.92 Q72.7513 1130.61 72.7513 1135.1 Q72.7513 1137.23 71.9411 1139.15 Q71.1541 1141.05 69.0476 1143.64 Q68.4689 1144.31 65.367 1147.53 Q62.2652 1150.73 56.6171 1156.49 Z\" fill=\"#000000\" fill-rule=\"nonzero\" fill-opacity=\"1\" /><path clip-path=\"url(#clip470)\" d=\"M82.7512 1154.55 L87.6354 1154.55 L87.6354 1160.42 L82.7512 1160.42 L82.7512 1154.55 Z\" fill=\"#000000\" fill-rule=\"nonzero\" fill-opacity=\"1\" /><path clip-path=\"url(#clip470)\" d=\"M107.821 1144.01 Q104.487 1144.01 102.566 1145.8 Q100.668 1147.58 100.668 1150.7 Q100.668 1153.83 102.566 1155.61 Q104.487 1157.39 107.821 1157.39 Q111.154 1157.39 113.075 1155.61 Q114.996 1153.8 114.996 1150.7 Q114.996 1147.58 113.075 1145.8 Q111.177 1144.01 107.821 1144.01 M103.145 1142.02 Q100.135 1141.28 98.4456 1139.22 Q96.7789 1137.16 96.7789 1134.2 Q96.7789 1130.05 99.7187 1127.65 Q102.682 1125.24 107.821 1125.24 Q112.983 1125.24 115.922 1127.65 Q118.862 1130.05 118.862 1134.2 Q118.862 1137.16 117.172 1139.22 Q115.506 1141.28 112.52 1142.02 Q115.899 1142.81 117.774 1145.1 Q119.672 1147.39 119.672 1150.7 Q119.672 1155.73 116.594 1158.41 Q113.538 1161.1 107.821 1161.1 Q102.103 1161.1 99.0243 1158.41 Q95.9687 1155.73 95.9687 1150.7 Q95.9687 1147.39 97.8669 1145.1 Q99.765 1142.81 103.145 1142.02 M101.432 1134.64 Q101.432 1137.32 103.098 1138.83 Q104.788 1140.33 107.821 1140.33 Q110.83 1140.33 112.52 1138.83 Q114.233 1137.32 114.233 1134.64 Q114.233 1131.95 112.52 1130.45 Q110.83 1128.94 107.821 1128.94 Q104.788 1128.94 103.098 1130.45 Q101.432 1131.95 101.432 1134.64 Z\" fill=\"#000000\" fill-rule=\"nonzero\" fill-opacity=\"1\" /><path clip-path=\"url(#clip470)\" d=\"M137.982 1128.94 Q134.371 1128.94 132.543 1132.51 Q130.737 1136.05 130.737 1143.18 Q130.737 1150.29 132.543 1153.85 Q134.371 1157.39 137.982 1157.39 Q141.617 1157.39 143.422 1153.85 Q145.251 1150.29 145.251 1143.18 Q145.251 1136.05 143.422 1132.51 Q141.617 1128.94 137.982 1128.94 M137.982 1125.24 Q143.793 1125.24 146.848 1129.85 Q149.927 1134.43 149.927 1143.18 Q149.927 1151.91 146.848 1156.51 Q143.793 1161.1 137.982 1161.1 Q132.172 1161.1 129.094 1156.51 Q126.038 1151.91 126.038 1143.18 Q126.038 1134.43 129.094 1129.85 Q132.172 1125.24 137.982 1125.24 Z\" fill=\"#000000\" fill-rule=\"nonzero\" fill-opacity=\"1\" /><path clip-path=\"url(#clip470)\" d=\"M186.315 1134.96 L175.737 1145.59 L186.315 1156.17 L183.561 1158.97 L172.936 1148.34 L162.311 1158.97 L159.58 1156.17 L170.135 1145.59 L159.58 1134.96 L162.311 1132.16 L172.936 1142.79 L183.561 1132.16 L186.315 1134.96 Z\" fill=\"#000000\" fill-rule=\"nonzero\" fill-opacity=\"1\" /><path clip-path=\"url(#clip470)\" d=\"M198.677 1156.49 L206.315 1156.49 L206.315 1130.12 L198.005 1131.79 L198.005 1127.53 L206.269 1125.86 L210.945 1125.86 L210.945 1156.49 L218.584 1156.49 L218.584 1160.42 L198.677 1160.42 L198.677 1156.49 Z\" fill=\"#000000\" fill-rule=\"nonzero\" fill-opacity=\"1\" /><path clip-path=\"url(#clip470)\" d=\"M238.028 1128.94 Q234.417 1128.94 232.588 1132.51 Q230.783 1136.05 230.783 1143.18 Q230.783 1150.29 232.588 1153.85 Q234.417 1157.39 238.028 1157.39 Q241.662 1157.39 243.468 1153.85 Q245.297 1150.29 245.297 1143.18 Q245.297 1136.05 243.468 1132.51 Q241.662 1128.94 238.028 1128.94 M238.028 1125.24 Q243.838 1125.24 246.894 1129.85 Q249.973 1134.43 249.973 1143.18 Q249.973 1151.91 246.894 1156.51 Q243.838 1161.1 238.028 1161.1 Q232.218 1161.1 229.139 1156.51 Q226.084 1151.91 226.084 1143.18 Q226.084 1134.43 229.139 1129.85 Q232.218 1125.24 238.028 1125.24 Z\" fill=\"#000000\" fill-rule=\"nonzero\" fill-opacity=\"1\" /><path clip-path=\"url(#clip470)\" d=\"M249.973 1119.34 L274.084 1119.34 L274.084 1122.54 L249.973 1122.54 L249.973 1119.34 Z\" fill=\"#000000\" fill-rule=\"nonzero\" fill-opacity=\"1\" /><path clip-path=\"url(#clip470)\" d=\"M282.322 1104.93 L297.236 1104.93 L297.236 1108.13 L285.801 1108.13 L285.801 1115.02 Q286.629 1114.73 287.456 1114.6 Q288.284 1114.45 289.112 1114.45 Q293.813 1114.45 296.559 1117.03 Q299.305 1119.6 299.305 1124.01 Q299.305 1128.54 296.484 1131.06 Q293.663 1133.56 288.528 1133.56 Q286.761 1133.56 284.917 1133.26 Q283.093 1132.96 281.137 1132.36 L281.137 1128.54 Q282.83 1129.46 284.635 1129.91 Q286.441 1130.36 288.453 1130.36 Q291.707 1130.36 293.607 1128.65 Q295.506 1126.94 295.506 1124.01 Q295.506 1121.07 293.607 1119.36 Q291.707 1117.65 288.453 1117.65 Q286.93 1117.65 285.406 1117.99 Q283.902 1118.33 282.322 1119.04 L282.322 1104.93 Z\" fill=\"#000000\" fill-rule=\"nonzero\" fill-opacity=\"1\" /><path clip-path=\"url(#clip470)\" d=\"M56.6171 931.696 L72.9365 931.696 L72.9365 935.631 L50.9921 935.631 L50.9921 931.696 Q53.6541 928.941 58.2375 924.312 Q62.8439 919.659 64.0245 918.316 Q66.2698 915.793 67.1494 914.057 Q68.0522 912.298 68.0522 910.608 Q68.0522 907.854 66.1078 906.117 Q64.1865 904.381 61.0847 904.381 Q58.8856 904.381 56.4319 905.145 Q54.0014 905.909 51.2236 907.46 L51.2236 902.738 Q54.0477 901.604 56.5014 901.025 Q58.955 900.446 60.9921 900.446 Q66.3624 900.446 69.5568 903.131 Q72.7513 905.817 72.7513 910.307 Q72.7513 912.437 71.9411 914.358 Q71.1541 916.256 69.0476 918.849 Q68.4689 919.52 65.367 922.738 Q62.2652 925.932 56.6171 931.696 Z\" fill=\"#000000\" fill-rule=\"nonzero\" fill-opacity=\"1\" /><path clip-path=\"url(#clip470)\" d=\"M82.7512 929.752 L87.6354 929.752 L87.6354 935.631 L82.7512 935.631 L82.7512 929.752 Z\" fill=\"#000000\" fill-rule=\"nonzero\" fill-opacity=\"1\" /><path clip-path=\"url(#clip470)\" d=\"M97.9595 934.914 L97.9595 930.654 Q99.7187 931.488 101.524 931.928 Q103.33 932.367 105.066 932.367 Q109.696 932.367 112.126 929.265 Q114.58 926.141 114.927 919.798 Q113.584 921.789 111.524 922.853 Q109.464 923.918 106.964 923.918 Q101.779 923.918 98.7465 920.793 Q95.7373 917.645 95.7373 912.205 Q95.7373 906.881 98.8854 903.664 Q102.034 900.446 107.265 900.446 Q113.26 900.446 116.408 905.053 Q119.58 909.636 119.58 918.386 Q119.58 926.557 115.691 931.441 Q111.825 936.302 105.274 936.302 Q103.515 936.302 101.709 935.955 Q99.9039 935.608 97.9595 934.914 M107.265 920.261 Q110.413 920.261 112.242 918.108 Q114.094 915.955 114.094 912.205 Q114.094 908.479 112.242 906.326 Q110.413 904.15 107.265 904.15 Q104.117 904.15 102.265 906.326 Q100.436 908.479 100.436 912.205 Q100.436 915.955 102.265 918.108 Q104.117 920.261 107.265 920.261 Z\" fill=\"#000000\" fill-rule=\"nonzero\" fill-opacity=\"1\" /><path clip-path=\"url(#clip470)\" d=\"M137.982 904.15 Q134.371 904.15 132.543 907.715 Q130.737 911.256 130.737 918.386 Q130.737 925.492 132.543 929.057 Q134.371 932.599 137.982 932.599 Q141.617 932.599 143.422 929.057 Q145.251 925.492 145.251 918.386 Q145.251 911.256 143.422 907.715 Q141.617 904.15 137.982 904.15 M137.982 900.446 Q143.793 900.446 146.848 905.053 Q149.927 909.636 149.927 918.386 Q149.927 927.113 146.848 931.719 Q143.793 936.302 137.982 936.302 Q132.172 936.302 129.094 931.719 Q126.038 927.113 126.038 918.386 Q126.038 909.636 129.094 905.053 Q132.172 900.446 137.982 900.446 Z\" fill=\"#000000\" fill-rule=\"nonzero\" fill-opacity=\"1\" /><path clip-path=\"url(#clip470)\" d=\"M186.315 910.168 L175.737 920.793 L186.315 931.372 L183.561 934.173 L172.936 923.548 L162.311 934.173 L159.58 931.372 L170.135 920.793 L159.58 910.168 L162.311 907.367 L172.936 917.992 L183.561 907.367 L186.315 910.168 Z\" fill=\"#000000\" fill-rule=\"nonzero\" fill-opacity=\"1\" /><path clip-path=\"url(#clip470)\" d=\"M198.677 931.696 L206.315 931.696 L206.315 905.33 L198.005 906.997 L198.005 902.738 L206.269 901.071 L210.945 901.071 L210.945 931.696 L218.584 931.696 L218.584 935.631 L198.677 935.631 L198.677 931.696 Z\" fill=\"#000000\" fill-rule=\"nonzero\" fill-opacity=\"1\" /><path clip-path=\"url(#clip470)\" d=\"M238.028 904.15 Q234.417 904.15 232.588 907.715 Q230.783 911.256 230.783 918.386 Q230.783 925.492 232.588 929.057 Q234.417 932.599 238.028 932.599 Q241.662 932.599 243.468 929.057 Q245.297 925.492 245.297 918.386 Q245.297 911.256 243.468 907.715 Q241.662 904.15 238.028 904.15 M238.028 900.446 Q243.838 900.446 246.894 905.053 Q249.973 909.636 249.973 918.386 Q249.973 927.113 246.894 931.719 Q243.838 936.302 238.028 936.302 Q232.218 936.302 229.139 931.719 Q226.084 927.113 226.084 918.386 Q226.084 909.636 229.139 905.053 Q232.218 900.446 238.028 900.446 Z\" fill=\"#000000\" fill-rule=\"nonzero\" fill-opacity=\"1\" /><path clip-path=\"url(#clip470)\" d=\"M249.973 894.548 L274.084 894.548 L274.084 897.745 L249.973 897.745 L249.973 894.548 Z\" fill=\"#000000\" fill-rule=\"nonzero\" fill-opacity=\"1\" /><path clip-path=\"url(#clip470)\" d=\"M282.322 880.141 L297.236 880.141 L297.236 883.338 L285.801 883.338 L285.801 890.222 Q286.629 889.94 287.456 889.808 Q288.284 889.658 289.112 889.658 Q293.813 889.658 296.559 892.234 Q299.305 894.811 299.305 899.212 Q299.305 903.745 296.484 906.265 Q293.663 908.766 288.528 908.766 Q286.761 908.766 284.917 908.465 Q283.093 908.164 281.137 907.563 L281.137 903.745 Q282.83 904.666 284.635 905.118 Q286.441 905.569 288.453 905.569 Q291.707 905.569 293.607 903.857 Q295.506 902.146 295.506 899.212 Q295.506 896.278 293.607 894.566 Q291.707 892.855 288.453 892.855 Q286.93 892.855 285.406 893.193 Q283.902 893.532 282.322 894.247 L282.322 880.141 Z\" fill=\"#000000\" fill-rule=\"nonzero\" fill-opacity=\"1\" /><path clip-path=\"url(#clip470)\" d=\"M66.7559 692.204 Q70.1124 692.921 71.9874 695.19 Q73.8855 697.458 73.8855 700.792 Q73.8855 705.907 70.367 708.708 Q66.8485 711.509 60.3671 711.509 Q58.1912 711.509 55.8764 711.069 Q53.5847 710.653 51.131 709.796 L51.131 705.282 Q53.0754 706.416 55.3903 706.995 Q57.7051 707.574 60.2282 707.574 Q64.6263 707.574 66.918 705.838 Q69.2328 704.102 69.2328 700.792 Q69.2328 697.736 67.08 696.023 Q64.9504 694.287 61.131 694.287 L57.1032 694.287 L57.1032 690.444 L61.3161 690.444 Q64.7652 690.444 66.5939 689.079 Q68.4226 687.69 68.4226 685.097 Q68.4226 682.435 66.5245 681.023 Q64.6495 679.588 61.131 679.588 Q59.2097 679.588 57.0106 680.005 Q54.8115 680.421 52.1727 681.301 L52.1727 677.134 Q54.8347 676.393 57.1495 676.023 Q59.4875 675.653 61.5476 675.653 Q66.8717 675.653 69.9735 678.083 Q73.0753 680.491 73.0753 684.611 Q73.0753 687.481 71.4318 689.472 Q69.7883 691.44 66.7559 692.204 Z\" fill=\"#000000\" fill-rule=\"nonzero\" fill-opacity=\"1\" /><path clip-path=\"url(#clip470)\" d=\"M82.7512 704.958 L87.6354 704.958 L87.6354 710.838 L82.7512 710.838 L82.7512 704.958 Z\" fill=\"#000000\" fill-rule=\"nonzero\" fill-opacity=\"1\" /><path clip-path=\"url(#clip470)\" d=\"M107.821 679.356 Q104.209 679.356 102.381 682.921 Q100.575 686.463 100.575 693.592 Q100.575 700.699 102.381 704.264 Q104.209 707.805 107.821 707.805 Q111.455 707.805 113.26 704.264 Q115.089 700.699 115.089 693.592 Q115.089 686.463 113.26 682.921 Q111.455 679.356 107.821 679.356 M107.821 675.653 Q113.631 675.653 116.686 680.259 Q119.765 684.843 119.765 693.592 Q119.765 702.319 116.686 706.926 Q113.631 711.509 107.821 711.509 Q102.01 711.509 98.9317 706.926 Q95.8761 702.319 95.8761 693.592 Q95.8761 684.843 98.9317 680.259 Q102.01 675.653 107.821 675.653 Z\" fill=\"#000000\" fill-rule=\"nonzero\" fill-opacity=\"1\" /><path clip-path=\"url(#clip470)\" d=\"M137.982 679.356 Q134.371 679.356 132.543 682.921 Q130.737 686.463 130.737 693.592 Q130.737 700.699 132.543 704.264 Q134.371 707.805 137.982 707.805 Q141.617 707.805 143.422 704.264 Q145.251 700.699 145.251 693.592 Q145.251 686.463 143.422 682.921 Q141.617 679.356 137.982 679.356 M137.982 675.653 Q143.793 675.653 146.848 680.259 Q149.927 684.843 149.927 693.592 Q149.927 702.319 146.848 706.926 Q143.793 711.509 137.982 711.509 Q132.172 711.509 129.094 706.926 Q126.038 702.319 126.038 693.592 Q126.038 684.843 129.094 680.259 Q132.172 675.653 137.982 675.653 Z\" fill=\"#000000\" fill-rule=\"nonzero\" fill-opacity=\"1\" /><path clip-path=\"url(#clip470)\" d=\"M186.315 685.375 L175.737 696 L186.315 706.579 L183.561 709.379 L172.936 698.754 L162.311 709.379 L159.58 706.579 L170.135 696 L159.58 685.375 L162.311 682.574 L172.936 693.199 L183.561 682.574 L186.315 685.375 Z\" fill=\"#000000\" fill-rule=\"nonzero\" fill-opacity=\"1\" /><path clip-path=\"url(#clip470)\" d=\"M198.677 706.903 L206.315 706.903 L206.315 680.537 L198.005 682.204 L198.005 677.944 L206.269 676.278 L210.945 676.278 L210.945 706.903 L218.584 706.903 L218.584 710.838 L198.677 710.838 L198.677 706.903 Z\" fill=\"#000000\" fill-rule=\"nonzero\" fill-opacity=\"1\" /><path clip-path=\"url(#clip470)\" d=\"M238.028 679.356 Q234.417 679.356 232.588 682.921 Q230.783 686.463 230.783 693.592 Q230.783 700.699 232.588 704.264 Q234.417 707.805 238.028 707.805 Q241.662 707.805 243.468 704.264 Q245.297 700.699 245.297 693.592 Q245.297 686.463 243.468 682.921 Q241.662 679.356 238.028 679.356 M238.028 675.653 Q243.838 675.653 246.894 680.259 Q249.973 684.843 249.973 693.592 Q249.973 702.319 246.894 706.926 Q243.838 711.509 238.028 711.509 Q232.218 711.509 229.139 706.926 Q226.084 702.319 226.084 693.592 Q226.084 684.843 229.139 680.259 Q232.218 675.653 238.028 675.653 Z\" fill=\"#000000\" fill-rule=\"nonzero\" fill-opacity=\"1\" /><path clip-path=\"url(#clip470)\" d=\"M249.973 669.754 L274.084 669.754 L274.084 672.951 L249.973 672.951 L249.973 669.754 Z\" fill=\"#000000\" fill-rule=\"nonzero\" fill-opacity=\"1\" /><path clip-path=\"url(#clip470)\" d=\"M282.322 655.347 L297.236 655.347 L297.236 658.545 L285.801 658.545 L285.801 665.428 Q286.629 665.146 287.456 665.015 Q288.284 664.864 289.112 664.864 Q293.813 664.864 296.559 667.441 Q299.305 670.017 299.305 674.418 Q299.305 678.951 296.484 681.471 Q293.663 683.973 288.528 683.973 Q286.761 683.973 284.917 683.672 Q283.093 683.371 281.137 682.769 L281.137 678.951 Q282.83 679.873 284.635 680.324 Q286.441 680.775 288.453 680.775 Q291.707 680.775 293.607 679.064 Q295.506 677.352 295.506 674.418 Q295.506 671.484 293.607 669.773 Q291.707 668.061 288.453 668.061 Q286.93 668.061 285.406 668.4 Q283.902 668.738 282.322 669.453 L282.322 655.347 Z\" fill=\"#000000\" fill-rule=\"nonzero\" fill-opacity=\"1\" /><path clip-path=\"url(#clip470)\" d=\"M66.7559 467.41 Q70.1124 468.128 71.9874 470.396 Q73.8855 472.665 73.8855 475.998 Q73.8855 481.114 70.367 483.915 Q66.8485 486.716 60.3671 486.716 Q58.1912 486.716 55.8764 486.276 Q53.5847 485.859 51.131 485.003 L51.131 480.489 Q53.0754 481.623 55.3903 482.202 Q57.7051 482.78 60.2282 482.78 Q64.6263 482.78 66.918 481.044 Q69.2328 479.308 69.2328 475.998 Q69.2328 472.943 67.08 471.23 Q64.9504 469.493 61.131 469.493 L57.1032 469.493 L57.1032 465.651 L61.3161 465.651 Q64.7652 465.651 66.5939 464.285 Q68.4226 462.896 68.4226 460.304 Q68.4226 457.642 66.5245 456.23 Q64.6495 454.794 61.131 454.794 Q59.2097 454.794 57.0106 455.211 Q54.8115 455.628 52.1727 456.507 L52.1727 452.341 Q54.8347 451.6 57.1495 451.23 Q59.4875 450.859 61.5476 450.859 Q66.8717 450.859 69.9735 453.29 Q73.0753 455.697 73.0753 459.818 Q73.0753 462.688 71.4318 464.679 Q69.7883 466.646 66.7559 467.41 Z\" fill=\"#000000\" fill-rule=\"nonzero\" fill-opacity=\"1\" /><path clip-path=\"url(#clip470)\" d=\"M82.7512 480.165 L87.6354 480.165 L87.6354 486.044 L82.7512 486.044 L82.7512 480.165 Z\" fill=\"#000000\" fill-rule=\"nonzero\" fill-opacity=\"1\" /><path clip-path=\"url(#clip470)\" d=\"M98.6308 482.109 L106.27 482.109 L106.27 455.744 L97.9595 457.41 L97.9595 453.151 L106.223 451.484 L110.899 451.484 L110.899 482.109 L118.538 482.109 L118.538 486.044 L98.6308 486.044 L98.6308 482.109 Z\" fill=\"#000000\" fill-rule=\"nonzero\" fill-opacity=\"1\" /><path clip-path=\"url(#clip470)\" d=\"M137.982 454.563 Q134.371 454.563 132.543 458.128 Q130.737 461.669 130.737 468.799 Q130.737 475.905 132.543 479.47 Q134.371 483.012 137.982 483.012 Q141.617 483.012 143.422 479.47 Q145.251 475.905 145.251 468.799 Q145.251 461.669 143.422 458.128 Q141.617 454.563 137.982 454.563 M137.982 450.859 Q143.793 450.859 146.848 455.466 Q149.927 460.049 149.927 468.799 Q149.927 477.526 146.848 482.132 Q143.793 486.716 137.982 486.716 Q132.172 486.716 129.094 482.132 Q126.038 477.526 126.038 468.799 Q126.038 460.049 129.094 455.466 Q132.172 450.859 137.982 450.859 Z\" fill=\"#000000\" fill-rule=\"nonzero\" fill-opacity=\"1\" /><path clip-path=\"url(#clip470)\" d=\"M186.315 460.581 L175.737 471.206 L186.315 481.785 L183.561 484.586 L172.936 473.961 L162.311 484.586 L159.58 481.785 L170.135 471.206 L159.58 460.581 L162.311 457.781 L172.936 468.406 L183.561 457.781 L186.315 460.581 Z\" fill=\"#000000\" fill-rule=\"nonzero\" fill-opacity=\"1\" /><path clip-path=\"url(#clip470)\" d=\"M198.677 482.109 L206.315 482.109 L206.315 455.744 L198.005 457.41 L198.005 453.151 L206.269 451.484 L210.945 451.484 L210.945 482.109 L218.584 482.109 L218.584 486.044 L198.677 486.044 L198.677 482.109 Z\" fill=\"#000000\" fill-rule=\"nonzero\" fill-opacity=\"1\" /><path clip-path=\"url(#clip470)\" d=\"M238.028 454.563 Q234.417 454.563 232.588 458.128 Q230.783 461.669 230.783 468.799 Q230.783 475.905 232.588 479.47 Q234.417 483.012 238.028 483.012 Q241.662 483.012 243.468 479.47 Q245.297 475.905 245.297 468.799 Q245.297 461.669 243.468 458.128 Q241.662 454.563 238.028 454.563 M238.028 450.859 Q243.838 450.859 246.894 455.466 Q249.973 460.049 249.973 468.799 Q249.973 477.526 246.894 482.132 Q243.838 486.716 238.028 486.716 Q232.218 486.716 229.139 482.132 Q226.084 477.526 226.084 468.799 Q226.084 460.049 229.139 455.466 Q232.218 450.859 238.028 450.859 Z\" fill=\"#000000\" fill-rule=\"nonzero\" fill-opacity=\"1\" /><path clip-path=\"url(#clip470)\" d=\"M249.973 444.961 L274.084 444.961 L274.084 448.158 L249.973 448.158 L249.973 444.961 Z\" fill=\"#000000\" fill-rule=\"nonzero\" fill-opacity=\"1\" /><path clip-path=\"url(#clip470)\" d=\"M282.322 430.554 L297.236 430.554 L297.236 433.751 L285.801 433.751 L285.801 440.635 Q286.629 440.353 287.456 440.221 Q288.284 440.071 289.112 440.071 Q293.813 440.071 296.559 442.647 Q299.305 445.224 299.305 449.625 Q299.305 454.158 296.484 456.678 Q293.663 459.179 288.528 459.179 Q286.761 459.179 284.917 458.878 Q283.093 458.577 281.137 457.976 L281.137 454.158 Q282.83 455.079 284.635 455.531 Q286.441 455.982 288.453 455.982 Q291.707 455.982 293.607 454.271 Q295.506 452.559 295.506 449.625 Q295.506 446.691 293.607 444.979 Q291.707 443.268 288.453 443.268 Q286.93 443.268 285.406 443.607 Q283.902 443.945 282.322 444.66 L282.322 430.554 Z\" fill=\"#000000\" fill-rule=\"nonzero\" fill-opacity=\"1\" /><path clip-path=\"url(#clip470)\" d=\"M66.7559 242.617 Q70.1124 243.334 71.9874 245.603 Q73.8855 247.871 73.8855 251.205 Q73.8855 256.32 70.367 259.121 Q66.8485 261.922 60.3671 261.922 Q58.1912 261.922 55.8764 261.482 Q53.5847 261.066 51.131 260.209 L51.131 255.695 Q53.0754 256.83 55.3903 257.408 Q57.7051 257.987 60.2282 257.987 Q64.6263 257.987 66.918 256.251 Q69.2328 254.515 69.2328 251.205 Q69.2328 248.149 67.08 246.436 Q64.9504 244.7 61.131 244.7 L57.1032 244.7 L57.1032 240.857 L61.3161 240.857 Q64.7652 240.857 66.5939 239.492 Q68.4226 238.103 68.4226 235.51 Q68.4226 232.848 66.5245 231.436 Q64.6495 230.001 61.131 230.001 Q59.2097 230.001 57.0106 230.418 Q54.8115 230.834 52.1727 231.714 L52.1727 227.547 Q54.8347 226.807 57.1495 226.436 Q59.4875 226.066 61.5476 226.066 Q66.8717 226.066 69.9735 228.496 Q73.0753 230.904 73.0753 235.024 Q73.0753 237.895 71.4318 239.885 Q69.7883 241.853 66.7559 242.617 Z\" fill=\"#000000\" fill-rule=\"nonzero\" fill-opacity=\"1\" /><path clip-path=\"url(#clip470)\" d=\"M82.7512 255.371 L87.6354 255.371 L87.6354 261.251 L82.7512 261.251 L82.7512 255.371 Z\" fill=\"#000000\" fill-rule=\"nonzero\" fill-opacity=\"1\" /><path clip-path=\"url(#clip470)\" d=\"M101.848 257.316 L118.168 257.316 L118.168 261.251 L96.2234 261.251 L96.2234 257.316 Q98.8854 254.561 103.469 249.931 Q108.075 245.279 109.256 243.936 Q111.501 241.413 112.381 239.677 Q113.283 237.918 113.283 236.228 Q113.283 233.473 111.339 231.737 Q109.418 230.001 106.316 230.001 Q104.117 230.001 101.663 230.765 Q99.2326 231.529 96.4548 233.08 L96.4548 228.358 Q99.2789 227.223 101.733 226.645 Q104.186 226.066 106.223 226.066 Q111.594 226.066 114.788 228.751 Q117.983 231.436 117.983 235.927 Q117.983 238.057 117.172 239.978 Q116.385 241.876 114.279 244.469 Q113.7 245.14 110.598 248.357 Q107.496 251.552 101.848 257.316 Z\" fill=\"#000000\" fill-rule=\"nonzero\" fill-opacity=\"1\" /><path clip-path=\"url(#clip470)\" d=\"M137.982 229.77 Q134.371 229.77 132.543 233.334 Q130.737 236.876 130.737 244.006 Q130.737 251.112 132.543 254.677 Q134.371 258.218 137.982 258.218 Q141.617 258.218 143.422 254.677 Q145.251 251.112 145.251 244.006 Q145.251 236.876 143.422 233.334 Q141.617 229.77 137.982 229.77 M137.982 226.066 Q143.793 226.066 146.848 230.672 Q149.927 235.256 149.927 244.006 Q149.927 252.732 146.848 257.339 Q143.793 261.922 137.982 261.922 Q132.172 261.922 129.094 257.339 Q126.038 252.732 126.038 244.006 Q126.038 235.256 129.094 230.672 Q132.172 226.066 137.982 226.066 Z\" fill=\"#000000\" fill-rule=\"nonzero\" fill-opacity=\"1\" /><path clip-path=\"url(#clip470)\" d=\"M186.315 235.788 L175.737 246.413 L186.315 256.992 L183.561 259.793 L172.936 249.168 L162.311 259.793 L159.58 256.992 L170.135 246.413 L159.58 235.788 L162.311 232.987 L172.936 243.612 L183.561 232.987 L186.315 235.788 Z\" fill=\"#000000\" fill-rule=\"nonzero\" fill-opacity=\"1\" /><path clip-path=\"url(#clip470)\" d=\"M198.677 257.316 L206.315 257.316 L206.315 230.95 L198.005 232.617 L198.005 228.358 L206.269 226.691 L210.945 226.691 L210.945 257.316 L218.584 257.316 L218.584 261.251 L198.677 261.251 L198.677 257.316 Z\" fill=\"#000000\" fill-rule=\"nonzero\" fill-opacity=\"1\" /><path clip-path=\"url(#clip470)\" d=\"M238.028 229.77 Q234.417 229.77 232.588 233.334 Q230.783 236.876 230.783 244.006 Q230.783 251.112 232.588 254.677 Q234.417 258.218 238.028 258.218 Q241.662 258.218 243.468 254.677 Q245.297 251.112 245.297 244.006 Q245.297 236.876 243.468 233.334 Q241.662 229.77 238.028 229.77 M238.028 226.066 Q243.838 226.066 246.894 230.672 Q249.973 235.256 249.973 244.006 Q249.973 252.732 246.894 257.339 Q243.838 261.922 238.028 261.922 Q232.218 261.922 229.139 257.339 Q226.084 252.732 226.084 244.006 Q226.084 235.256 229.139 230.672 Q232.218 226.066 238.028 226.066 Z\" fill=\"#000000\" fill-rule=\"nonzero\" fill-opacity=\"1\" /><path clip-path=\"url(#clip470)\" d=\"M249.973 220.167 L274.084 220.167 L274.084 223.365 L249.973 223.365 L249.973 220.167 Z\" fill=\"#000000\" fill-rule=\"nonzero\" fill-opacity=\"1\" /><path clip-path=\"url(#clip470)\" d=\"M282.322 205.76 L297.236 205.76 L297.236 208.958 L285.801 208.958 L285.801 215.841 Q286.629 215.559 287.456 215.428 Q288.284 215.277 289.112 215.277 Q293.813 215.277 296.559 217.854 Q299.305 220.431 299.305 224.832 Q299.305 229.364 296.484 231.884 Q293.663 234.386 288.528 234.386 Q286.761 234.386 284.917 234.085 Q283.093 233.784 281.137 233.182 L281.137 229.364 Q282.83 230.286 284.635 230.737 Q286.441 231.189 288.453 231.189 Q291.707 231.189 293.607 229.477 Q295.506 227.766 295.506 224.832 Q295.506 221.898 293.607 220.186 Q291.707 218.475 288.453 218.475 Q286.93 218.475 285.406 218.813 Q283.902 219.152 282.322 219.866 L282.322 205.76 Z\" fill=\"#000000\" fill-rule=\"nonzero\" fill-opacity=\"1\" /><circle clip-path=\"url(#clip472)\" cx=\"2129.42\" cy=\"1168.15\" r=\"14.4\" fill=\"#009af9\" fill-rule=\"evenodd\" fill-opacity=\"1\" stroke=\"#000000\" stroke-opacity=\"1\" stroke-width=\"3.2\"/>\n",
       "<circle clip-path=\"url(#clip472)\" cx=\"2277.12\" cy=\"1102.4\" r=\"14.4\" fill=\"#009af9\" fill-rule=\"evenodd\" fill-opacity=\"1\" stroke=\"#000000\" stroke-opacity=\"1\" stroke-width=\"3.2\"/>\n",
       "<circle clip-path=\"url(#clip472)\" cx=\"2267.76\" cy=\"1088.93\" r=\"14.4\" fill=\"#009af9\" fill-rule=\"evenodd\" fill-opacity=\"1\" stroke=\"#000000\" stroke-opacity=\"1\" stroke-width=\"3.2\"/>\n",
       "<circle clip-path=\"url(#clip472)\" cx=\"2289.53\" cy=\"871.625\" r=\"14.4\" fill=\"#009af9\" fill-rule=\"evenodd\" fill-opacity=\"1\" stroke=\"#000000\" stroke-opacity=\"1\" stroke-width=\"3.2\"/>\n",
       "<circle clip-path=\"url(#clip472)\" cx=\"2281.38\" cy=\"1319.26\" r=\"14.4\" fill=\"#009af9\" fill-rule=\"evenodd\" fill-opacity=\"1\" stroke=\"#000000\" stroke-opacity=\"1\" stroke-width=\"3.2\"/>\n",
       "<circle clip-path=\"url(#clip472)\" cx=\"2290.97\" cy=\"1220.48\" r=\"14.4\" fill=\"#009af9\" fill-rule=\"evenodd\" fill-opacity=\"1\" stroke=\"#000000\" stroke-opacity=\"1\" stroke-width=\"3.2\"/>\n",
       "<circle clip-path=\"url(#clip472)\" cx=\"1776.47\" cy=\"653.799\" r=\"14.4\" fill=\"#009af9\" fill-rule=\"evenodd\" fill-opacity=\"1\" stroke=\"#000000\" stroke-opacity=\"1\" stroke-width=\"3.2\"/>\n",
       "<circle clip-path=\"url(#clip472)\" cx=\"2161.6\" cy=\"1086.59\" r=\"14.4\" fill=\"#009af9\" fill-rule=\"evenodd\" fill-opacity=\"1\" stroke=\"#000000\" stroke-opacity=\"1\" stroke-width=\"3.2\"/>\n",
       "<circle clip-path=\"url(#clip472)\" cx=\"2276.42\" cy=\"989.79\" r=\"14.4\" fill=\"#009af9\" fill-rule=\"evenodd\" fill-opacity=\"1\" stroke=\"#000000\" stroke-opacity=\"1\" stroke-width=\"3.2\"/>\n",
       "<circle clip-path=\"url(#clip472)\" cx=\"2283.29\" cy=\"785.847\" r=\"14.4\" fill=\"#009af9\" fill-rule=\"evenodd\" fill-opacity=\"1\" stroke=\"#000000\" stroke-opacity=\"1\" stroke-width=\"3.2\"/>\n",
       "<circle clip-path=\"url(#clip472)\" cx=\"2295.66\" cy=\"1055.09\" r=\"14.4\" fill=\"#009af9\" fill-rule=\"evenodd\" fill-opacity=\"1\" stroke=\"#000000\" stroke-opacity=\"1\" stroke-width=\"3.2\"/>\n",
       "<circle clip-path=\"url(#clip472)\" cx=\"2291.51\" cy=\"1157.22\" r=\"14.4\" fill=\"#009af9\" fill-rule=\"evenodd\" fill-opacity=\"1\" stroke=\"#000000\" stroke-opacity=\"1\" stroke-width=\"3.2\"/>\n",
       "<circle clip-path=\"url(#clip472)\" cx=\"1409.15\" cy=\"490.899\" r=\"14.4\" fill=\"#009af9\" fill-rule=\"evenodd\" fill-opacity=\"1\" stroke=\"#000000\" stroke-opacity=\"1\" stroke-width=\"3.2\"/>\n",
       "<circle clip-path=\"url(#clip472)\" cx=\"1830.13\" cy=\"801.219\" r=\"14.4\" fill=\"#009af9\" fill-rule=\"evenodd\" fill-opacity=\"1\" stroke=\"#000000\" stroke-opacity=\"1\" stroke-width=\"3.2\"/>\n",
       "<circle clip-path=\"url(#clip472)\" cx=\"2152.11\" cy=\"739.321\" r=\"14.4\" fill=\"#009af9\" fill-rule=\"evenodd\" fill-opacity=\"1\" stroke=\"#000000\" stroke-opacity=\"1\" stroke-width=\"3.2\"/>\n",
       "<circle clip-path=\"url(#clip472)\" cx=\"2253.84\" cy=\"1334.56\" r=\"14.4\" fill=\"#009af9\" fill-rule=\"evenodd\" fill-opacity=\"1\" stroke=\"#000000\" stroke-opacity=\"1\" stroke-width=\"3.2\"/>\n",
       "<circle clip-path=\"url(#clip472)\" cx=\"2268.78\" cy=\"980.657\" r=\"14.4\" fill=\"#009af9\" fill-rule=\"evenodd\" fill-opacity=\"1\" stroke=\"#000000\" stroke-opacity=\"1\" stroke-width=\"3.2\"/>\n",
       "<circle clip-path=\"url(#clip472)\" cx=\"2276.93\" cy=\"1152.78\" r=\"14.4\" fill=\"#009af9\" fill-rule=\"evenodd\" fill-opacity=\"1\" stroke=\"#000000\" stroke-opacity=\"1\" stroke-width=\"3.2\"/>\n",
       "<circle clip-path=\"url(#clip472)\" cx=\"1327.72\" cy=\"537.861\" r=\"14.4\" fill=\"#009af9\" fill-rule=\"evenodd\" fill-opacity=\"1\" stroke=\"#000000\" stroke-opacity=\"1\" stroke-width=\"3.2\"/>\n",
       "<circle clip-path=\"url(#clip472)\" cx=\"1562.83\" cy=\"392.323\" r=\"14.4\" fill=\"#009af9\" fill-rule=\"evenodd\" fill-opacity=\"1\" stroke=\"#000000\" stroke-opacity=\"1\" stroke-width=\"3.2\"/>\n",
       "<circle clip-path=\"url(#clip472)\" cx=\"1943.83\" cy=\"851.029\" r=\"14.4\" fill=\"#009af9\" fill-rule=\"evenodd\" fill-opacity=\"1\" stroke=\"#000000\" stroke-opacity=\"1\" stroke-width=\"3.2\"/>\n",
       "<circle clip-path=\"url(#clip472)\" cx=\"2132.36\" cy=\"1136.25\" r=\"14.4\" fill=\"#009af9\" fill-rule=\"evenodd\" fill-opacity=\"1\" stroke=\"#000000\" stroke-opacity=\"1\" stroke-width=\"3.2\"/>\n",
       "<circle clip-path=\"url(#clip472)\" cx=\"2244.21\" cy=\"706.149\" r=\"14.4\" fill=\"#009af9\" fill-rule=\"evenodd\" fill-opacity=\"1\" stroke=\"#000000\" stroke-opacity=\"1\" stroke-width=\"3.2\"/>\n",
       "<circle clip-path=\"url(#clip472)\" cx=\"2260.36\" cy=\"1274.17\" r=\"14.4\" fill=\"#009af9\" fill-rule=\"evenodd\" fill-opacity=\"1\" stroke=\"#000000\" stroke-opacity=\"1\" stroke-width=\"3.2\"/>\n",
       "<circle clip-path=\"url(#clip472)\" cx=\"392.403\" cy=\"796.446\" r=\"14.4\" fill=\"#009af9\" fill-rule=\"evenodd\" fill-opacity=\"1\" stroke=\"#000000\" stroke-opacity=\"1\" stroke-width=\"3.2\"/>\n",
       "<circle clip-path=\"url(#clip472)\" cx=\"1331.33\" cy=\"306.161\" r=\"14.4\" fill=\"#009af9\" fill-rule=\"evenodd\" fill-opacity=\"1\" stroke=\"#000000\" stroke-opacity=\"1\" stroke-width=\"3.2\"/>\n",
       "<circle clip-path=\"url(#clip472)\" cx=\"1572.17\" cy=\"87.9763\" r=\"14.4\" fill=\"#009af9\" fill-rule=\"evenodd\" fill-opacity=\"1\" stroke=\"#000000\" stroke-opacity=\"1\" stroke-width=\"3.2\"/>\n",
       "<circle clip-path=\"url(#clip472)\" cx=\"2014.99\" cy=\"664.215\" r=\"14.4\" fill=\"#009af9\" fill-rule=\"evenodd\" fill-opacity=\"1\" stroke=\"#000000\" stroke-opacity=\"1\" stroke-width=\"3.2\"/>\n",
       "<circle clip-path=\"url(#clip472)\" cx=\"2129.38\" cy=\"1364.51\" r=\"14.4\" fill=\"#009af9\" fill-rule=\"evenodd\" fill-opacity=\"1\" stroke=\"#000000\" stroke-opacity=\"1\" stroke-width=\"3.2\"/>\n",
       "<circle clip-path=\"url(#clip472)\" cx=\"2263.25\" cy=\"1291.15\" r=\"14.4\" fill=\"#009af9\" fill-rule=\"evenodd\" fill-opacity=\"1\" stroke=\"#000000\" stroke-opacity=\"1\" stroke-width=\"3.2\"/>\n",
       "<circle clip-path=\"url(#clip472)\" cx=\"822.33\" cy=\"403.933\" r=\"14.4\" fill=\"#009af9\" fill-rule=\"evenodd\" fill-opacity=\"1\" stroke=\"#000000\" stroke-opacity=\"1\" stroke-width=\"3.2\"/>\n",
       "<circle clip-path=\"url(#clip472)\" cx=\"1104.13\" cy=\"376.569\" r=\"14.4\" fill=\"#009af9\" fill-rule=\"evenodd\" fill-opacity=\"1\" stroke=\"#000000\" stroke-opacity=\"1\" stroke-width=\"3.2\"/>\n",
       "<circle clip-path=\"url(#clip472)\" cx=\"1316.42\" cy=\"459.706\" r=\"14.4\" fill=\"#009af9\" fill-rule=\"evenodd\" fill-opacity=\"1\" stroke=\"#000000\" stroke-opacity=\"1\" stroke-width=\"3.2\"/>\n",
       "<circle clip-path=\"url(#clip472)\" cx=\"1790.26\" cy=\"816.711\" r=\"14.4\" fill=\"#009af9\" fill-rule=\"evenodd\" fill-opacity=\"1\" stroke=\"#000000\" stroke-opacity=\"1\" stroke-width=\"3.2\"/>\n",
       "<circle clip-path=\"url(#clip472)\" cx=\"1919.24\" cy=\"598.163\" r=\"14.4\" fill=\"#009af9\" fill-rule=\"evenodd\" fill-opacity=\"1\" stroke=\"#000000\" stroke-opacity=\"1\" stroke-width=\"3.2\"/>\n",
       "<circle clip-path=\"url(#clip472)\" cx=\"2061.93\" cy=\"1445.72\" r=\"14.4\" fill=\"#009af9\" fill-rule=\"evenodd\" fill-opacity=\"1\" stroke=\"#000000\" stroke-opacity=\"1\" stroke-width=\"3.2\"/>\n",
       "<path clip-path=\"url(#clip470)\" d=\"M2031.33 198.898 L2285.51 198.898 L2285.51 95.2176 L2031.33 95.2176  Z\" fill=\"#ffffff\" fill-rule=\"evenodd\" fill-opacity=\"1\"/>\n",
       "<polyline clip-path=\"url(#clip470)\" style=\"stroke:#000000; stroke-linecap:round; stroke-linejoin:round; stroke-width:4; stroke-opacity:1; fill:none\" points=\"2031.33,198.898 2285.51,198.898 2285.51,95.2176 2031.33,95.2176 2031.33,198.898 \"/>\n",
       "<circle clip-path=\"url(#clip470)\" cx=\"2121\" cy=\"147.058\" r=\"23.04\" fill=\"#009af9\" fill-rule=\"evenodd\" fill-opacity=\"1\" stroke=\"#000000\" stroke-opacity=\"1\" stroke-width=\"5.12\"/>\n",
       "<path clip-path=\"url(#clip470)\" d=\"M2224.5 166.745 Q2222.7 171.375 2220.99 172.787 Q2219.27 174.199 2216.4 174.199 L2213 174.199 L2213 170.634 L2215.5 170.634 Q2217.26 170.634 2218.23 169.8 Q2219.2 168.967 2220.38 165.865 L2221.15 163.921 L2210.66 138.412 L2215.18 138.412 L2223.28 158.689 L2231.38 138.412 L2235.89 138.412 L2224.5 166.745 Z\" fill=\"#000000\" fill-rule=\"nonzero\" fill-opacity=\"1\" /><path clip-path=\"url(#clip470)\" d=\"M2243.18 160.402 L2250.82 160.402 L2250.82 134.037 L2242.51 135.703 L2242.51 131.444 L2250.78 129.778 L2255.45 129.778 L2255.45 160.402 L2263.09 160.402 L2263.09 164.338 L2243.18 164.338 L2243.18 160.402 Z\" fill=\"#000000\" fill-rule=\"nonzero\" fill-opacity=\"1\" /></svg>\n"
      ]
     },
     "execution_count": 20,
     "metadata": {},
     "output_type": "execute_result"
    }
   ],
   "source": [
    "scatter(wet_ratio_matrix[:],avgδ_matrix[:])"
   ]
  },
  {
   "cell_type": "code",
   "execution_count": 21,
   "metadata": {},
   "outputs": [],
   "source": [
    "import XLSX"
   ]
  },
  {
   "cell_type": "code",
   "execution_count": 22,
   "metadata": {},
   "outputs": [],
   "source": [
    "expfile = expfileDict[\"O002_H001_P040\"]\n",
    "exppath = \"../expdata/\"\n",
    "xf = XLSX.readxlsx(exppath*expfile);\n",
    "Onum, Hnum, power_exp = getconfig(expfile)\n",
    "RTDt,RTD = getRTD(xf,Onum);\n",
    "RTD_for_plotting = [1,4,8];"
   ]
  },
  {
   "cell_type": "code",
   "execution_count": 23,
   "metadata": {},
   "outputs": [
    {
     "ename": "LoadError",
     "evalue": "UndefVarError: t_hist not defined",
     "output_type": "error",
     "traceback": [
      "UndefVarError: t_hist not defined",
      "",
      "Stacktrace:",
      " [1] top-level scope",
      "   @ In[23]:1"
     ]
    }
   ],
   "source": [
    "plot(OHPTcurve(),RTD_for_plotting,(t_hist,g_hist),SimuResult)\n",
    "plot!(OHPTexp() ,RTD_for_plotting,(RTDt,RTD)     ,SimuResult)"
   ]
  },
  {
   "cell_type": "code",
   "execution_count": null,
   "metadata": {},
   "outputs": [],
   "source": []
  }
 ],
 "metadata": {
  "@webio": {
   "lastCommId": null,
   "lastKernelId": null
  },
  "kernelspec": {
   "display_name": "Julia 1.8.5",
   "language": "julia",
   "name": "julia-1.8"
  },
  "language_info": {
   "file_extension": ".jl",
   "mimetype": "application/julia",
   "name": "julia",
   "version": "1.8.5"
  }
 },
 "nbformat": 4,
 "nbformat_minor": 3
}
