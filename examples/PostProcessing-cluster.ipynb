{
 "cells": [
  {
   "cell_type": "markdown",
   "metadata": {},
   "source": [
    "  # PostProcessing\n",
    "  This notebook is initially designed for PostProcessing ASETS-II numerical and experimental data.\n",
    "  It can also be used for other configurations's numerical results. But if you want to compare with other experimental data with a different format than ASETS-II. You should find a way to read them to RTD and RTDt in this notebook."
   ]
  },
  {
   "cell_type": "code",
   "execution_count": 2,
   "metadata": {},
   "outputs": [],
   "source": [
    "using ComputationalHeatTransfer\n",
    "using Plots\n",
    "# using Interact\n",
    "using Statistics\n",
    "using EasyFit\n",
    "import XLSX"
   ]
  },
  {
   "cell_type": "code",
   "execution_count": 68,
   "metadata": {},
   "outputs": [
    {
     "data": {
      "text/plain": [
       "\"/ASETS-L-2-40.jld2\""
      ]
     },
     "execution_count": 68,
     "metadata": {},
     "output_type": "execute_result"
    }
   ],
   "source": [
    "dir_paths = [\n",
    "    \"/Users/yuxuanli/Documents/Hoffman/ohp162/numedata\";\n",
    "    \"/Users/yuxuanli/Documents/Hoffman/ohp171/numedata\";\n",
    "    \"/Users/yuxuanli/Documents/Hoffman/ohp172/numedata\";\n",
    "    \"/Users/yuxuanli/Documents/Hoffman/ohp173/numedata\";\n",
    "    \"/Users/yuxuanli/Documents/Hoffman/ohp174/numedata\";\n",
    "    \"/Users/yuxuanli/Documents/Hoffman/ohp175/numedata\";\n",
    "    \"/Users/yuxuanli/Documents/Hoffman/ohp176/numedata\";\n",
    "]\n",
    "file_path = \"/ASETS-L-2-40.jld2\""
   ]
  },
  {
   "cell_type": "code",
   "execution_count": 69,
   "metadata": {},
   "outputs": [],
   "source": [
    "x2Dsensors = [-2.9,-1.4,-0.8,0.0,0.0,0.8,1.4,2.9] .* inches\n",
    "y2Dsensors = [0.0,   0.0, 0.0,0.0,0.4,0.0,0.0,0.0] .* inches\n",
    "plate_sensors = (x2Dsensors,y2Dsensors);"
   ]
  },
  {
   "cell_type": "code",
   "execution_count": 70,
   "metadata": {},
   "outputs": [],
   "source": [
    "cond_all = []\n",
    "dT_all = []\n",
    "plt = plot()\n",
    "for dir_path in dir_paths\n",
    "    read_path = dir_path*file_path\n",
    "    SimuResult = load(read_path)[\"SimulationResult\"];\n",
    "    t_hist,g_hist = getTcurve(plate_sensors,SimuResult);\n",
    "    \n",
    "    ihot = 4 # hot sensor  for calculating thermal conductance\n",
    "    icold = 8# cold sensor  for calculating thermal conductance;\n",
    "    power = SimuResult.integrator_tube.p.wall.power\n",
    "    \n",
    "    # push!(cond_all,power./(g_hist[:,ihot] - g_hist[:,icold]);)\n",
    "    push!(dT_all,(g_hist[:,ihot] - g_hist[:,icold]))\n",
    "    \n",
    "#     plot!(OHPCond(),(ihot,icold),(t_hist,g_hist),(RTDt,RTD),SimuResult,ylim=(0,15))\n",
    "end"
   ]
  },
  {
   "cell_type": "code",
   "execution_count": 73,
   "metadata": {},
   "outputs": [],
   "source": [
    "# cond_max = maximum(hcat(cond_all...),dims=2);\n",
    "# cond_min = minimum(hcat(cond_all...),dims=2);\n",
    "\n",
    "dT_max = maximum(hcat(dT_all...),dims=2);\n",
    "dT_min = minimum(hcat(dT_all...),dims=2);"
   ]
  },
  {
   "cell_type": "code",
   "execution_count": 74,
   "metadata": {},
   "outputs": [],
   "source": [
    "dir_path = dir_paths[1]\n",
    "read_path = dir_path*file_path\n",
    "    SimuResult = load(read_path)[\"SimulationResult\"];\n",
    "    t_hist,g_hist = getTcurve(plate_sensors,SimuResult);\n",
    "\n",
    "    cd(\"/Users/yuxuanli/Documents/Hoffman/ohp95/numedata\")\n",
    "    expfile = expfileDict[\"O002_H001_P040\"]\n",
    "    exppath = \"../expdata/\"\n",
    "    xf = XLSX.readxlsx(exppath*expfile);\n",
    "    Onum, Hnum, power_exp = getconfig(expfile)\n",
    "    RTDt,RTD = getRTD(xf,Onum);"
   ]
  },
  {
   "cell_type": "code",
   "execution_count": 75,
   "metadata": {},
   "outputs": [],
   "source": [
    "ihot = 4 # hot sensor  for calculating thermal conductance\n",
    "    icold = 8# cold sensor  for calculating thermal conductance;\n",
    "    power = SimuResult.integrator_tube.p.wall.power\n",
    "\n",
    "cond = power./(g_hist[:,ihot] - g_hist[:,icold]);\n",
    "dT = g_hist[:,ihot] - g_hist[:,icold];\n",
    "dt_exp = RTD[:,ihot]-RTD[:,icold];"
   ]
  },
  {
   "cell_type": "code",
   "execution_count": 76,
   "metadata": {},
   "outputs": [
    {
     "data": {
      "text/plain": [
       "([88.0 2.7499999999997624; 36.0 4.7599999999995415; … ; 10.0 234.55000000329213; 241.0 258.9900000041034], [5.0; 8.0; … ; 0.0; 0.0;;], [0.0; 0.0; … ; 0.0; 1.0;;], 0.1:0.1:259.0, [-0.041266614379100036, 0.007159650837879283, 0.016018438816322977, 0.018697185099937865, 0.028623112601812897, 0.03155675557471656, 0.04220363461263709, 0.057544726761539045, 0.01927919132375805, 0.002781309321315029  …  0.016643962656571136, 0.021413585668903248, 0.06615375314770464, 0.05453235914779503, 0.009564775717435248, -0.027722698256917165, -0.0347807157968054, -0.035780824010705904, -0.068915, -0.068915], [-0.023125, -0.023125, -0.023125, -0.023125, -0.023125000000000003, -0.023125, -0.023125, -0.023125, -0.021723484848484843, -0.02172348484848484  …  0.021723484848485124, 0.021723484848485124, 0.021723484848485124, 0.023125000000000277, 0.023125000000000277, 0.02312500000000029, 0.02312500000000029, 0.02312500000000029, 0.020912048077899627, -0.008446356850664829], 0.1)"
      ]
     },
     "execution_count": 76,
     "metadata": {},
     "output_type": "execute_result"
    }
   ],
   "source": [
    "if length(SimuResult.boil_hist) != 0\n",
    "boil_data,boil_num_x,boil_num_t,t_boil,x2D_boil,y2D_boil,boil_dt = get_boil_matrix(SimuResult::SimulationResult);\n",
    "end"
   ]
  },
  {
   "cell_type": "code",
   "execution_count": 77,
   "metadata": {},
   "outputs": [],
   "source": [
    "m10 = movavg(vcat(boil_num_t...)./boil_dt,10);"
   ]
  },
  {
   "cell_type": "code",
   "execution_count": 81,
   "metadata": {},
   "outputs": [
    {
     "data": {
      "text/plain": [
       "\"/Users/yuxuanli/Documents/Hoffman/ohp95/numedata/cond_curve dryout.pdf\""
      ]
     },
     "execution_count": 81,
     "metadata": {},
     "output_type": "execute_result"
    }
   ],
   "source": [
    "gr()\n",
    "# plot(OHPCond(),(ihot,icold),(t_hist,g_hist),(RTDt,RTD),SimuResult,ylim=(0,5))\n",
    "plot(t_hist,dT,xlim=(0,300.0),ylim=(-20,100),linewidth=2,label=\"T₄-T₈ model\",ylabel=\"T₄-T₈ [K]\",legend=:topleft, xlabel=\"time [s]\")\n",
    "scatter!(RTDt,dt_exp,label=\"T₄-T₈ experiment\")\n",
    "plot!(dT_max,fillrange = dT_min,fillalpha = 0.35,fillcolor=:blue,linewidth=0,alpha=0,label=false,title=\"\")\n",
    "plot!(twinx(),t_boil,m10.x,\n",
    "color=:orange, xlim=(0,300.0),ylim=(0,100),legend=:top,linewidth=2, ylabel=\"f [Hz]\", label=\"boiling frequency\")\n",
    "# savefig(\"cond_curve.pdf\")\n",
    "savefig(\"cond_curve dryout.pdf\")"
   ]
  },
  {
   "cell_type": "markdown",
   "metadata": {},
   "source": [
    "## average conductance"
   ]
  },
  {
   "cell_type": "code",
   "execution_count": 83,
   "metadata": {},
   "outputs": [
    {
     "data": {
      "text/plain": [
       "getallcond (generic function with 1 method)"
      ]
     },
     "execution_count": 83,
     "metadata": {},
     "output_type": "execute_result"
    }
   ],
   "source": [
    "read_path_array = [\n",
    "\"../numedata/ASETS-L-1-10.jld2\",\n",
    "\"../numedata/ASETS-L-1-20.jld2\",\n",
    "\"../numedata/ASETS-L-1-30.jld2\",\n",
    "\"../numedata/ASETS-L-1-40.jld2\",\n",
    "\"../numedata/ASETS-S-1-10.jld2\",\n",
    "\"../numedata/ASETS-S-1-20.jld2\",\n",
    "\"../numedata/ASETS-S-1-30.jld2\",\n",
    "\"../numedata/ASETS-S-1-40.jld2\",\n",
    "\"../numedata/ASETS-L-2-10.jld2\",\n",
    "\"../numedata/ASETS-L-2-20.jld2\",\n",
    "\"../numedata/ASETS-L-2-30.jld2\",\n",
    "\"../numedata/ASETS-L-2-40.jld2\",\n",
    "\"../numedata/ASETS-S-2-10.jld2\",\n",
    "\"../numedata/ASETS-S-2-20.jld2\",\n",
    "\"../numedata/ASETS-S-2-30.jld2\",\n",
    "\"../numedata/ASETS-S-2-40.jld2\"\n",
    "]\n",
    "exp_path_array = [\n",
    "    \"O001_H001_P010\",\n",
    "    \"O001_H001_P020\",\n",
    "    \"O001_H001_P030\",\n",
    "    \"O001_H001_P040\",\n",
    "    \"O001_H002_P010\",\n",
    "    \"O001_H002_P020\",\n",
    "    \"O001_H002_P030\",\n",
    "    \"O001_H002_P040\",\n",
    "    \"O002_H001_P010\",\n",
    "    \"O002_H001_P020\",\n",
    "    \"O002_H001_P030\",\n",
    "    \"O002_H001_P040\",\n",
    "    \"O002_H002_P010\",\n",
    "    \"O002_H002_P020\",\n",
    "    \"O002_H002_P030\",\n",
    "    \"O002_H002_P040\"\n",
    "]\n",
    "\n",
    "exppath = \"/Users/yuxuanli/Documents/Hoffman/ohp95/expdata/\"\n",
    "\n",
    "function getallcond(readpath,read_path_array,exppath,exp_path_array,plate_sensors)\n",
    "    cd(readpath)\n",
    "    \n",
    "    conductance_array = zeros(size(read_path_array))\n",
    "    expcond_array = zeros(size(read_path_array))\n",
    "    avgδ_array = zeros(size(read_path_array))\n",
    "    nume_postdryout = 0.0\n",
    "    exp_postdryout = 0.0\n",
    "\n",
    "    for i in eachindex(read_path_array)\n",
    "        SimuResult = load(read_path_array[i])[\"SimulationResult\"];\n",
    "        \n",
    "        t_hist,g_hist = getTcurve(plate_sensors,SimuResult);\n",
    "        power = SimuResult.integrator_tube.p.wall.power\n",
    "\n",
    "        println(i,power)\n",
    "\n",
    "        ihot = 4 # hot sensor  for calculating thermal conductance\n",
    "        icold = 8 # c\n",
    "        cond = power ./ (g_hist[:,ihot] .- g_hist[:,icold])\n",
    "\n",
    "        conductance_array[i] = mean(cond[100:200])\n",
    "#         avgδ_array[i] = get_avgδ(SimuResult)\n",
    "\n",
    "\n",
    "        expfile = expfileDict[exp_path_array[i]]\n",
    "#         exppath = \"/Users/yuxuanli/Documents/Hoffman/ohp95/expdata/\"\n",
    "        xf = XLSX.readxlsx(exppath*expfile);\n",
    "\n",
    "        Onum, Hnum, power_exp = getconfig(expfile)\n",
    "        RTDt,RTD = getRTD(xf,Onum);\n",
    "\n",
    "        cond_exp = power ./ (RTD[:,ihot] .- RTD[:,icold])\n",
    "\n",
    "        expcond_array[i] = mean(cond_exp[100:200])\n",
    "\n",
    "        if exp_path_array[i] == \"O002_H001_P040\"\n",
    "            exp_postdryout = mean(cond_exp[250:300])\n",
    "            nume_postdryout = mean(cond[250:300])\n",
    "        end\n",
    "    end\n",
    "\n",
    "    return conductance_array,expcond_array,exp_postdryout,nume_postdryout\n",
    "end"
   ]
  },
  {
   "cell_type": "code",
   "execution_count": 84,
   "metadata": {},
   "outputs": [
    {
     "name": "stdout",
     "output_type": "stream",
     "text": [
      "110.0\n",
      "220.0\n",
      "330.0\n",
      "440.0\n",
      "510.0\n",
      "620.0\n",
      "730.0\n",
      "840.0\n",
      "910.0\n",
      "1020.0\n",
      "1130.0\n",
      "1240.0\n",
      "1310.0\n",
      "1420.0\n",
      "1530.0\n",
      "1640.0\n",
      "110.0\n",
      "220.0\n",
      "330.0\n",
      "440.0\n",
      "510.0\n",
      "620.0\n",
      "730.0\n",
      "840.0\n",
      "910.0\n",
      "1020.0\n",
      "1130.0\n",
      "1240.0\n",
      "1310.0\n",
      "1420.0\n",
      "1530.0\n",
      "1640.0\n",
      "110.0\n",
      "220.0\n",
      "330.0\n",
      "440.0\n",
      "510.0\n",
      "620.0\n",
      "730.0\n",
      "840.0\n",
      "910.0\n",
      "1020.0\n",
      "1130.0\n",
      "1240.0\n",
      "1310.0\n",
      "1420.0\n",
      "1530.0\n",
      "1640.0\n",
      "110.0\n",
      "220.0\n",
      "330.0\n",
      "440.0\n",
      "510.0\n",
      "620.0\n",
      "730.0\n",
      "840.0\n",
      "910.0\n",
      "1020.0\n",
      "1130.0\n",
      "1240.0\n",
      "1310.0\n",
      "1420.0\n",
      "1530.0\n",
      "1640.0\n",
      "110.0\n",
      "220.0\n",
      "330.0\n",
      "440.0\n",
      "510.0\n",
      "620.0\n",
      "730.0\n",
      "840.0\n",
      "910.0\n",
      "1020.0\n",
      "1130.0\n",
      "1240.0\n",
      "1310.0\n",
      "1420.0\n",
      "1530.0\n",
      "1640.0\n",
      "110.0\n",
      "220.0\n",
      "330.0\n",
      "440.0\n",
      "510.0\n",
      "620.0\n",
      "730.0\n",
      "840.0\n",
      "910.0\n",
      "1020.0\n",
      "1130.0\n",
      "1240.0\n",
      "1310.0\n",
      "1420.0\n",
      "1530.0\n",
      "1640.0\n",
      "110.0\n",
      "220.0\n",
      "330.0\n",
      "440.0\n",
      "510.0\n",
      "620.0\n",
      "730.0\n",
      "840.0\n",
      "910.0\n",
      "1020.0\n",
      "1130.0\n",
      "1240.0\n",
      "1310.0\n",
      "1420.0\n",
      "1530.0\n",
      "1640.0\n"
     ]
    }
   ],
   "source": [
    "conductance_array_all = []\n",
    "for readpath in dir_paths\n",
    "    conductance_array,expcond_array,exp_postdryout,nume_postdryout = getallcond(readpath,read_path_array,exppath,exp_path_array,plate_sensors);\n",
    "    push!(conductance_array_all,conductance_array)\n",
    "end"
   ]
  },
  {
   "cell_type": "code",
   "execution_count": 40,
   "metadata": {},
   "outputs": [
    {
     "name": "stdout",
     "output_type": "stream",
     "text": [
      "110.0\n",
      "220.0\n",
      "330.0\n",
      "440.0\n",
      "510.0\n",
      "620.0\n",
      "730.0\n",
      "840.0\n",
      "910.0\n",
      "1020.0\n",
      "1130.0\n",
      "1240.0\n",
      "1310.0\n",
      "1420.0\n",
      "1530.0\n",
      "1640.0\n"
     ]
    }
   ],
   "source": [
    "readpath = \"/Users/yuxuanli/Documents/Hoffman/ohp162/numedata\"\n",
    "conductance_array,expcond_array,exp_postdryout,nume_postdryout = getallcond(readpath,read_path_array,exppath,exp_path_array,plate_sensors);"
   ]
  },
  {
   "cell_type": "code",
   "execution_count": 85,
   "metadata": {},
   "outputs": [],
   "source": [
    "conductance_array = vec(mean(hcat(conductance_array_all...),dims=2))\n",
    "cond_err_max = vec(maximum(hcat(conductance_array_all...),dims=2) .- conductance_array)\n",
    "cond_err_min = vec(-(minimum(hcat(conductance_array_all...),dims=2) .- conductance_array));\n",
    "# σavg = std(hcat(conductance_array_all...),dims=2);"
   ]
  },
  {
   "cell_type": "code",
   "execution_count": 86,
   "metadata": {},
   "outputs": [
    {
     "data": {
      "text/plain": [
       "4-element Vector{Float64}:\n",
       " 3.7642465150405777\n",
       " 6.303638108765004\n",
       " 6.233366401506048\n",
       " 5.792706013890706"
      ]
     },
     "execution_count": 86,
     "metadata": {},
     "output_type": "execute_result"
    }
   ],
   "source": [
    "conductance_array[plotrange]"
   ]
  },
  {
   "cell_type": "code",
   "execution_count": 87,
   "metadata": {},
   "outputs": [],
   "source": [
    "cd(\"/Users/yuxuanli/Documents/Hoffman/ohp95/numedata/\")"
   ]
  },
  {
   "cell_type": "code",
   "execution_count": 96,
   "metadata": {},
   "outputs": [
    {
     "data": {
      "text/plain": [
       "\"/Users/yuxuanli/Documents/Hoffman/ohp95/numedata/cond all 1L.pdf\""
      ]
     },
     "execution_count": 96,
     "metadata": {},
     "output_type": "execute_result"
    }
   ],
   "source": [
    "powers = [10,20,30,40]\n",
    "plotrange = 1:4\n",
    "scatter(powers,conductance_array[plotrange],markersize=5,color=:blue,markeralpha=0.5,marker=:square,yerror=(cond_err_min[plotrange],cond_err_max[plotrange]))\n",
    "scatter!(powers,expcond_array[plotrange],markersize=5,markeralpha=0.5,color=:red,\n",
    "ylim=(0,8),legend=false,xlabel=\"heater power [W]\",ylabel=\"G [W/K]\")\n",
    "savefig(\"cond all 1L.pdf\")"
   ]
  },
  {
   "cell_type": "code",
   "execution_count": 97,
   "metadata": {},
   "outputs": [
    {
     "data": {
      "text/plain": [
       "\"/Users/yuxuanli/Documents/Hoffman/ohp95/numedata/cond all 1S.pdf\""
      ]
     },
     "execution_count": 97,
     "metadata": {},
     "output_type": "execute_result"
    }
   ],
   "source": [
    "powers = [10,20,30,40]\n",
    "plotrange = 5:8\n",
    "scatter(powers,conductance_array[plotrange],markersize=5,markeralpha=0.5,color=:blue,marker=:square,yerror=(cond_err_min[plotrange],cond_err_max[plotrange]))\n",
    "scatter!(powers,expcond_array[plotrange],markersize=5,markeralpha=0.5,color=:red,\n",
    "ylim=(0,8),legend=false,xlabel=\"heater power [W]\",ylabel=\"G [W/K]\")\n",
    "savefig(\"cond all 1S.pdf\")"
   ]
  },
  {
   "cell_type": "code",
   "execution_count": 98,
   "metadata": {},
   "outputs": [
    {
     "data": {
      "text/plain": [
       "\"/Users/yuxuanli/Documents/Hoffman/ohp95/numedata/cond all 2L.pdf\""
      ]
     },
     "execution_count": 98,
     "metadata": {},
     "output_type": "execute_result"
    }
   ],
   "source": [
    "powers = [10,20,30,40]\n",
    "plotrange = 9:12\n",
    "scatter(powers,conductance_array[plotrange],markersize=5,markeralpha=0.5,color=:blue,marker=:square,yerror=(cond_err_min[plotrange],cond_err_max[plotrange]),label=\"\")\n",
    "scatter!(powers,expcond_array[plotrange],markersize=5,markeralpha=0.5,color=:red,label=\"\",\n",
    "ylim=(0,8),legend=true,xlabel=\"heater power [W]\",ylabel=\"G [W/K]\")\n",
    "plot!([40,40],[expcond_array[12],exp_postdryout],markersize=5,markeralpha=0.5,linewidth=2,marker=:xcross,color=:red,label=\"experimental dryout\")\n",
    "# scatter!([40],[nume_postdryout],markersize=5,markeralpha=0.5,color=:blue,marker=:square,legend=true,label=\"\")\n",
    "savefig(\"cond all 2L.pdf\")"
   ]
  },
  {
   "cell_type": "code",
   "execution_count": 99,
   "metadata": {},
   "outputs": [
    {
     "data": {
      "text/plain": [
       "\"/Users/yuxuanli/Documents/Hoffman/ohp95/numedata/cond all 2S.pdf\""
      ]
     },
     "execution_count": 99,
     "metadata": {},
     "output_type": "execute_result"
    }
   ],
   "source": [
    "powers = [10,20,30,40]\n",
    "plotrange = 13:16\n",
    "scatter(powers,conductance_array[plotrange],markersize=5,markeralpha=0.5,color=:blue,marker=:square,yerror=(cond_err_min[plotrange],cond_err_max[plotrange]))\n",
    "scatter!(powers,expcond_array[plotrange],markersize=5,markeralpha=0.5,color=:red,\n",
    "ylim=(0,8),legend=false,xlabel=\"heater power [W]\",ylabel=\"G [W/K]\")\n",
    "savefig(\"cond all 2S.pdf\")"
   ]
  },
  {
   "cell_type": "code",
   "execution_count": 95,
   "metadata": {},
   "outputs": [
    {
     "data": {
      "text/plain": [
       "0.23780132361691642"
      ]
     },
     "execution_count": 95,
     "metadata": {},
     "output_type": "execute_result"
    }
   ],
   "source": [
    "maximum(abs.(1 .- [conductance_array[1]./expcond_array[1]]))"
   ]
  },
  {
   "cell_type": "markdown",
   "metadata": {},
   "source": [
    "#### "
   ]
  }
 ],
 "metadata": {
  "@webio": {
   "lastCommId": "7075e52b28784da3834be55642bc6213",
   "lastKernelId": "46dbff56-e885-45aa-a862-7da56c85336f"
  },
  "kernelspec": {
   "display_name": "Julia 1.9.3",
   "language": "julia",
   "name": "julia-1.9"
  },
  "language_info": {
   "file_extension": ".jl",
   "mimetype": "application/julia",
   "name": "julia",
   "version": "1.9.3"
  }
 },
 "nbformat": 4,
 "nbformat_minor": 4
}
